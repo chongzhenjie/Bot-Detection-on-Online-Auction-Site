{
 "cells": [
  {
   "cell_type": "code",
   "execution_count": 1,
   "id": "8e5bc557",
   "metadata": {},
   "outputs": [],
   "source": [
    "import pandas as pd\n",
    "import matplotlib.pyplot as plt\n",
    "import seaborn as sns"
   ]
  },
  {
   "cell_type": "code",
   "execution_count": 2,
   "id": "b109a5fe",
   "metadata": {},
   "outputs": [],
   "source": [
    "bids_df = pd.read_csv('bids.csv')\n",
    "train_df = pd.read_csv('train.csv')\n",
    "test_df = pd.read_csv('test.csv')"
   ]
  },
  {
   "cell_type": "markdown",
   "id": "bb4309ea",
   "metadata": {},
   "source": [
    "# Data Cleaning"
   ]
  },
  {
   "cell_type": "code",
   "execution_count": 3,
   "id": "733700fd",
   "metadata": {},
   "outputs": [
    {
     "data": {
      "text/html": [
       "<div>\n",
       "<style scoped>\n",
       "    .dataframe tbody tr th:only-of-type {\n",
       "        vertical-align: middle;\n",
       "    }\n",
       "\n",
       "    .dataframe tbody tr th {\n",
       "        vertical-align: top;\n",
       "    }\n",
       "\n",
       "    .dataframe thead th {\n",
       "        text-align: right;\n",
       "    }\n",
       "</style>\n",
       "<table border=\"1\" class=\"dataframe\">\n",
       "  <thead>\n",
       "    <tr style=\"text-align: right;\">\n",
       "      <th></th>\n",
       "      <th>bid_id</th>\n",
       "      <th>bidder_id</th>\n",
       "      <th>auction</th>\n",
       "      <th>merchandise</th>\n",
       "      <th>device</th>\n",
       "      <th>time</th>\n",
       "      <th>country</th>\n",
       "      <th>ip</th>\n",
       "      <th>url</th>\n",
       "    </tr>\n",
       "  </thead>\n",
       "  <tbody>\n",
       "    <tr>\n",
       "      <th>0</th>\n",
       "      <td>0</td>\n",
       "      <td>8dac2b259fd1c6d1120e519fb1ac14fbqvax8</td>\n",
       "      <td>ewmzr</td>\n",
       "      <td>jewelry</td>\n",
       "      <td>phone0</td>\n",
       "      <td>9759243157894736</td>\n",
       "      <td>us</td>\n",
       "      <td>69.166.231.58</td>\n",
       "      <td>vasstdc27m7nks3</td>\n",
       "    </tr>\n",
       "    <tr>\n",
       "      <th>1</th>\n",
       "      <td>1</td>\n",
       "      <td>668d393e858e8126275433046bbd35c6tywop</td>\n",
       "      <td>aeqok</td>\n",
       "      <td>furniture</td>\n",
       "      <td>phone1</td>\n",
       "      <td>9759243157894736</td>\n",
       "      <td>in</td>\n",
       "      <td>50.201.125.84</td>\n",
       "      <td>jmqlhflrzwuay9c</td>\n",
       "    </tr>\n",
       "    <tr>\n",
       "      <th>2</th>\n",
       "      <td>2</td>\n",
       "      <td>aa5f360084278b35d746fa6af3a7a1a5ra3xe</td>\n",
       "      <td>wa00e</td>\n",
       "      <td>home goods</td>\n",
       "      <td>phone2</td>\n",
       "      <td>9759243157894736</td>\n",
       "      <td>py</td>\n",
       "      <td>112.54.208.157</td>\n",
       "      <td>vasstdc27m7nks3</td>\n",
       "    </tr>\n",
       "    <tr>\n",
       "      <th>3</th>\n",
       "      <td>3</td>\n",
       "      <td>3939ac3ef7d472a59a9c5f893dd3e39fh9ofi</td>\n",
       "      <td>jefix</td>\n",
       "      <td>jewelry</td>\n",
       "      <td>phone4</td>\n",
       "      <td>9759243157894736</td>\n",
       "      <td>in</td>\n",
       "      <td>18.99.175.133</td>\n",
       "      <td>vasstdc27m7nks3</td>\n",
       "    </tr>\n",
       "    <tr>\n",
       "      <th>4</th>\n",
       "      <td>4</td>\n",
       "      <td>8393c48eaf4b8fa96886edc7cf27b372dsibi</td>\n",
       "      <td>jefix</td>\n",
       "      <td>jewelry</td>\n",
       "      <td>phone5</td>\n",
       "      <td>9759243157894736</td>\n",
       "      <td>in</td>\n",
       "      <td>145.138.5.37</td>\n",
       "      <td>vasstdc27m7nks3</td>\n",
       "    </tr>\n",
       "  </tbody>\n",
       "</table>\n",
       "</div>"
      ],
      "text/plain": [
       "   bid_id                              bidder_id auction merchandise  device  \\\n",
       "0       0  8dac2b259fd1c6d1120e519fb1ac14fbqvax8   ewmzr     jewelry  phone0   \n",
       "1       1  668d393e858e8126275433046bbd35c6tywop   aeqok   furniture  phone1   \n",
       "2       2  aa5f360084278b35d746fa6af3a7a1a5ra3xe   wa00e  home goods  phone2   \n",
       "3       3  3939ac3ef7d472a59a9c5f893dd3e39fh9ofi   jefix     jewelry  phone4   \n",
       "4       4  8393c48eaf4b8fa96886edc7cf27b372dsibi   jefix     jewelry  phone5   \n",
       "\n",
       "               time country              ip              url  \n",
       "0  9759243157894736      us   69.166.231.58  vasstdc27m7nks3  \n",
       "1  9759243157894736      in   50.201.125.84  jmqlhflrzwuay9c  \n",
       "2  9759243157894736      py  112.54.208.157  vasstdc27m7nks3  \n",
       "3  9759243157894736      in   18.99.175.133  vasstdc27m7nks3  \n",
       "4  9759243157894736      in    145.138.5.37  vasstdc27m7nks3  "
      ]
     },
     "execution_count": 3,
     "metadata": {},
     "output_type": "execute_result"
    }
   ],
   "source": [
    "bids_df.head()"
   ]
  },
  {
   "cell_type": "code",
   "execution_count": 4,
   "id": "b6689715",
   "metadata": {},
   "outputs": [
    {
     "data": {
      "text/html": [
       "<div>\n",
       "<style scoped>\n",
       "    .dataframe tbody tr th:only-of-type {\n",
       "        vertical-align: middle;\n",
       "    }\n",
       "\n",
       "    .dataframe tbody tr th {\n",
       "        vertical-align: top;\n",
       "    }\n",
       "\n",
       "    .dataframe thead th {\n",
       "        text-align: right;\n",
       "    }\n",
       "</style>\n",
       "<table border=\"1\" class=\"dataframe\">\n",
       "  <thead>\n",
       "    <tr style=\"text-align: right;\">\n",
       "      <th></th>\n",
       "      <th>bidder_id</th>\n",
       "      <th>payment_account</th>\n",
       "      <th>address</th>\n",
       "      <th>outcome</th>\n",
       "    </tr>\n",
       "  </thead>\n",
       "  <tbody>\n",
       "    <tr>\n",
       "      <th>0</th>\n",
       "      <td>91a3c57b13234af24875c56fb7e2b2f4rb56a</td>\n",
       "      <td>a3d2de7675556553a5f08e4c88d2c228754av</td>\n",
       "      <td>a3d2de7675556553a5f08e4c88d2c228vt0u4</td>\n",
       "      <td>0.0</td>\n",
       "    </tr>\n",
       "    <tr>\n",
       "      <th>1</th>\n",
       "      <td>624f258b49e77713fc34034560f93fb3hu3jo</td>\n",
       "      <td>a3d2de7675556553a5f08e4c88d2c228v1sga</td>\n",
       "      <td>ae87054e5a97a8f840a3991d12611fdcrfbq3</td>\n",
       "      <td>0.0</td>\n",
       "    </tr>\n",
       "    <tr>\n",
       "      <th>2</th>\n",
       "      <td>1c5f4fc669099bfbfac515cd26997bd12ruaj</td>\n",
       "      <td>a3d2de7675556553a5f08e4c88d2c2280cybl</td>\n",
       "      <td>92520288b50f03907041887884ba49c0cl0pd</td>\n",
       "      <td>0.0</td>\n",
       "    </tr>\n",
       "    <tr>\n",
       "      <th>3</th>\n",
       "      <td>4bee9aba2abda51bf43d639013d6efe12iycd</td>\n",
       "      <td>51d80e233f7b6a7dfdee484a3c120f3b2ita8</td>\n",
       "      <td>4cb9717c8ad7e88a9a284989dd79b98dbevyi</td>\n",
       "      <td>0.0</td>\n",
       "    </tr>\n",
       "    <tr>\n",
       "      <th>4</th>\n",
       "      <td>4ab12bc61c82ddd9c2d65e60555808acqgos1</td>\n",
       "      <td>a3d2de7675556553a5f08e4c88d2c22857ddh</td>\n",
       "      <td>2a96c3ce94b3be921e0296097b88b56a7x1ji</td>\n",
       "      <td>0.0</td>\n",
       "    </tr>\n",
       "  </tbody>\n",
       "</table>\n",
       "</div>"
      ],
      "text/plain": [
       "                               bidder_id  \\\n",
       "0  91a3c57b13234af24875c56fb7e2b2f4rb56a   \n",
       "1  624f258b49e77713fc34034560f93fb3hu3jo   \n",
       "2  1c5f4fc669099bfbfac515cd26997bd12ruaj   \n",
       "3  4bee9aba2abda51bf43d639013d6efe12iycd   \n",
       "4  4ab12bc61c82ddd9c2d65e60555808acqgos1   \n",
       "\n",
       "                         payment_account  \\\n",
       "0  a3d2de7675556553a5f08e4c88d2c228754av   \n",
       "1  a3d2de7675556553a5f08e4c88d2c228v1sga   \n",
       "2  a3d2de7675556553a5f08e4c88d2c2280cybl   \n",
       "3  51d80e233f7b6a7dfdee484a3c120f3b2ita8   \n",
       "4  a3d2de7675556553a5f08e4c88d2c22857ddh   \n",
       "\n",
       "                                 address  outcome  \n",
       "0  a3d2de7675556553a5f08e4c88d2c228vt0u4      0.0  \n",
       "1  ae87054e5a97a8f840a3991d12611fdcrfbq3      0.0  \n",
       "2  92520288b50f03907041887884ba49c0cl0pd      0.0  \n",
       "3  4cb9717c8ad7e88a9a284989dd79b98dbevyi      0.0  \n",
       "4  2a96c3ce94b3be921e0296097b88b56a7x1ji      0.0  "
      ]
     },
     "execution_count": 4,
     "metadata": {},
     "output_type": "execute_result"
    }
   ],
   "source": [
    "train_df.head()"
   ]
  },
  {
   "cell_type": "markdown",
   "id": "038a31b9",
   "metadata": {},
   "source": [
    "### Missing values"
   ]
  },
  {
   "cell_type": "code",
   "execution_count": 5,
   "id": "be146250",
   "metadata": {},
   "outputs": [
    {
     "data": {
      "text/plain": [
       "(7656334, 9)"
      ]
     },
     "execution_count": 5,
     "metadata": {},
     "output_type": "execute_result"
    }
   ],
   "source": [
    "bids_df.shape"
   ]
  },
  {
   "cell_type": "code",
   "execution_count": 6,
   "id": "0bd6ae9c",
   "metadata": {},
   "outputs": [
    {
     "data": {
      "text/plain": [
       "bid_id            0\n",
       "bidder_id         0\n",
       "auction           0\n",
       "merchandise       0\n",
       "device            0\n",
       "time              0\n",
       "country        8859\n",
       "ip                0\n",
       "url               0\n",
       "dtype: int64"
      ]
     },
     "execution_count": 6,
     "metadata": {},
     "output_type": "execute_result"
    }
   ],
   "source": [
    "bids_df.isnull().sum()"
   ]
  },
  {
   "cell_type": "code",
   "execution_count": 7,
   "id": "e4aa0239",
   "metadata": {},
   "outputs": [
    {
     "name": "stdout",
     "output_type": "stream",
     "text": [
      "Percentage of missing data in country column:  0.12%\n"
     ]
    }
   ],
   "source": [
    "missing_percent = bids_df['country'].isnull().mean()\n",
    "print(f\"Percentage of missing data in country column: {missing_percent*100: .2f}%\")"
   ]
  },
  {
   "cell_type": "markdown",
   "id": "66cccdb3",
   "metadata": {},
   "source": [
    "We find that only the country column has missing values and it is only a small proportion of the entire dataset."
   ]
  },
  {
   "cell_type": "code",
   "execution_count": 8,
   "id": "157ba157",
   "metadata": {},
   "outputs": [
    {
     "data": {
      "image/png": "[encoded data removed]",
      "text/plain": [
       "<Figure size 1296x345.6 with 1 Axes>"
      ]
     },
     "metadata": {
      "needs_background": "light"
     },
     "output_type": "display_data"
    }
   ],
   "source": [
    "unique_countries = bids_df['country'].value_counts()\n",
    "\n",
    "fig, ax = plt.subplots(figsize = (18, 4.8))\n",
    "countries_distribution = sns.barplot(x = unique_countries.index, y = unique_countries.values, ax = ax)                        \n",
    "ax.get_xaxis().set_visible(False)\n",
    "\n",
    "plt.show()"
   ]
  },
  {
   "cell_type": "markdown",
   "id": "5efe195b",
   "metadata": {},
   "source": [
    "We check the distribution of the countries and find that there is one country that is significantly higher than the rest. Hence, mode imputation may be a good approach."
   ]
  },
  {
   "cell_type": "code",
   "execution_count": 9,
   "id": "50b08bdc",
   "metadata": {},
   "outputs": [],
   "source": [
    "bids_df['country'] = bids_df['country'].fillna(bids_df['country'].mode()[0])"
   ]
  },
  {
   "cell_type": "markdown",
   "id": "17569132",
   "metadata": {},
   "source": [
    "# Feature Engineering"
   ]
  },
  {
   "cell_type": "markdown",
   "id": "995ccefd",
   "metadata": {},
   "source": [
    "### Features of unique counts using .nunique()"
   ]
  },
  {
   "cell_type": "code",
   "execution_count": 10,
   "id": "71ba1a11",
   "metadata": {},
   "outputs": [
    {
     "data": {
      "text/html": [
       "<div>\n",
       "<style scoped>\n",
       "    .dataframe tbody tr th:only-of-type {\n",
       "        vertical-align: middle;\n",
       "    }\n",
       "\n",
       "    .dataframe tbody tr th {\n",
       "        vertical-align: top;\n",
       "    }\n",
       "\n",
       "    .dataframe thead th {\n",
       "        text-align: right;\n",
       "    }\n",
       "</style>\n",
       "<table border=\"1\" class=\"dataframe\">\n",
       "  <thead>\n",
       "    <tr style=\"text-align: right;\">\n",
       "      <th></th>\n",
       "      <th>bidder_id</th>\n",
       "      <th>bid_id</th>\n",
       "      <th>auction</th>\n",
       "      <th>merchandise</th>\n",
       "      <th>device</th>\n",
       "      <th>time</th>\n",
       "      <th>country</th>\n",
       "      <th>ip</th>\n",
       "      <th>url</th>\n",
       "    </tr>\n",
       "  </thead>\n",
       "  <tbody>\n",
       "    <tr>\n",
       "      <th>0</th>\n",
       "      <td>001068c415025a009fee375a12cff4fcnht8y</td>\n",
       "      <td>1</td>\n",
       "      <td>1</td>\n",
       "      <td>1</td>\n",
       "      <td>1</td>\n",
       "      <td>1</td>\n",
       "      <td>1</td>\n",
       "      <td>1</td>\n",
       "      <td>1</td>\n",
       "    </tr>\n",
       "    <tr>\n",
       "      <th>1</th>\n",
       "      <td>002d229ffb247009810828f648afc2ef593rb</td>\n",
       "      <td>2</td>\n",
       "      <td>1</td>\n",
       "      <td>1</td>\n",
       "      <td>2</td>\n",
       "      <td>2</td>\n",
       "      <td>1</td>\n",
       "      <td>1</td>\n",
       "      <td>1</td>\n",
       "    </tr>\n",
       "    <tr>\n",
       "      <th>2</th>\n",
       "      <td>0030a2dd87ad2733e0873062e4f83954mkj86</td>\n",
       "      <td>1</td>\n",
       "      <td>1</td>\n",
       "      <td>1</td>\n",
       "      <td>1</td>\n",
       "      <td>1</td>\n",
       "      <td>1</td>\n",
       "      <td>1</td>\n",
       "      <td>1</td>\n",
       "    </tr>\n",
       "    <tr>\n",
       "      <th>3</th>\n",
       "      <td>003180b29c6a5f8f1d84a6b7b6f7be57tjj1o</td>\n",
       "      <td>3</td>\n",
       "      <td>3</td>\n",
       "      <td>1</td>\n",
       "      <td>3</td>\n",
       "      <td>3</td>\n",
       "      <td>1</td>\n",
       "      <td>3</td>\n",
       "      <td>2</td>\n",
       "    </tr>\n",
       "    <tr>\n",
       "      <th>4</th>\n",
       "      <td>00486a11dff552c4bd7696265724ff81yeo9v</td>\n",
       "      <td>20</td>\n",
       "      <td>13</td>\n",
       "      <td>1</td>\n",
       "      <td>8</td>\n",
       "      <td>20</td>\n",
       "      <td>1</td>\n",
       "      <td>10</td>\n",
       "      <td>7</td>\n",
       "    </tr>\n",
       "  </tbody>\n",
       "</table>\n",
       "</div>"
      ],
      "text/plain": [
       "                               bidder_id  bid_id  auction  merchandise  \\\n",
       "0  001068c415025a009fee375a12cff4fcnht8y       1        1            1   \n",
       "1  002d229ffb247009810828f648afc2ef593rb       2        1            1   \n",
       "2  0030a2dd87ad2733e0873062e4f83954mkj86       1        1            1   \n",
       "3  003180b29c6a5f8f1d84a6b7b6f7be57tjj1o       3        3            1   \n",
       "4  00486a11dff552c4bd7696265724ff81yeo9v      20       13            1   \n",
       "\n",
       "   device  time  country  ip  url  \n",
       "0       1     1        1   1    1  \n",
       "1       2     2        1   1    1  \n",
       "2       1     1        1   1    1  \n",
       "3       3     3        1   3    2  \n",
       "4       8    20        1  10    7  "
      ]
     },
     "execution_count": 10,
     "metadata": {},
     "output_type": "execute_result"
    }
   ],
   "source": [
    "bidder_unique = bids_df.groupby(\"bidder_id\").nunique().reset_index()\n",
    "bidder_unique.head()"
   ]
  },
  {
   "cell_type": "code",
   "execution_count": 11,
   "id": "73b994e6",
   "metadata": {},
   "outputs": [
    {
     "data": {
      "text/html": [
       "<div>\n",
       "<style scoped>\n",
       "    .dataframe tbody tr th:only-of-type {\n",
       "        vertical-align: middle;\n",
       "    }\n",
       "\n",
       "    .dataframe tbody tr th {\n",
       "        vertical-align: top;\n",
       "    }\n",
       "\n",
       "    .dataframe thead th {\n",
       "        text-align: right;\n",
       "    }\n",
       "</style>\n",
       "<table border=\"1\" class=\"dataframe\">\n",
       "  <thead>\n",
       "    <tr style=\"text-align: right;\">\n",
       "      <th></th>\n",
       "      <th>bidder_id</th>\n",
       "      <th>outcome</th>\n",
       "      <th>num_bids</th>\n",
       "      <th>num_auct</th>\n",
       "      <th>num_merch_type</th>\n",
       "      <th>num_device_type</th>\n",
       "      <th>num_time</th>\n",
       "      <th>num_ctry</th>\n",
       "      <th>num_ip</th>\n",
       "      <th>num_url</th>\n",
       "    </tr>\n",
       "  </thead>\n",
       "  <tbody>\n",
       "    <tr>\n",
       "      <th>0</th>\n",
       "      <td>91a3c57b13234af24875c56fb7e2b2f4rb56a</td>\n",
       "      <td>0.0</td>\n",
       "      <td>24.0</td>\n",
       "      <td>18.0</td>\n",
       "      <td>1.0</td>\n",
       "      <td>14.0</td>\n",
       "      <td>24.0</td>\n",
       "      <td>6.0</td>\n",
       "      <td>20.0</td>\n",
       "      <td>1.0</td>\n",
       "    </tr>\n",
       "    <tr>\n",
       "      <th>1</th>\n",
       "      <td>624f258b49e77713fc34034560f93fb3hu3jo</td>\n",
       "      <td>0.0</td>\n",
       "      <td>3.0</td>\n",
       "      <td>1.0</td>\n",
       "      <td>1.0</td>\n",
       "      <td>2.0</td>\n",
       "      <td>3.0</td>\n",
       "      <td>1.0</td>\n",
       "      <td>3.0</td>\n",
       "      <td>2.0</td>\n",
       "    </tr>\n",
       "    <tr>\n",
       "      <th>2</th>\n",
       "      <td>1c5f4fc669099bfbfac515cd26997bd12ruaj</td>\n",
       "      <td>0.0</td>\n",
       "      <td>4.0</td>\n",
       "      <td>4.0</td>\n",
       "      <td>1.0</td>\n",
       "      <td>2.0</td>\n",
       "      <td>4.0</td>\n",
       "      <td>1.0</td>\n",
       "      <td>4.0</td>\n",
       "      <td>2.0</td>\n",
       "    </tr>\n",
       "    <tr>\n",
       "      <th>3</th>\n",
       "      <td>4bee9aba2abda51bf43d639013d6efe12iycd</td>\n",
       "      <td>0.0</td>\n",
       "      <td>1.0</td>\n",
       "      <td>1.0</td>\n",
       "      <td>1.0</td>\n",
       "      <td>1.0</td>\n",
       "      <td>1.0</td>\n",
       "      <td>1.0</td>\n",
       "      <td>1.0</td>\n",
       "      <td>1.0</td>\n",
       "    </tr>\n",
       "    <tr>\n",
       "      <th>4</th>\n",
       "      <td>4ab12bc61c82ddd9c2d65e60555808acqgos1</td>\n",
       "      <td>0.0</td>\n",
       "      <td>155.0</td>\n",
       "      <td>23.0</td>\n",
       "      <td>1.0</td>\n",
       "      <td>53.0</td>\n",
       "      <td>155.0</td>\n",
       "      <td>2.0</td>\n",
       "      <td>123.0</td>\n",
       "      <td>91.0</td>\n",
       "    </tr>\n",
       "  </tbody>\n",
       "</table>\n",
       "</div>"
      ],
      "text/plain": [
       "                               bidder_id  outcome  num_bids  num_auct  \\\n",
       "0  91a3c57b13234af24875c56fb7e2b2f4rb56a      0.0      24.0      18.0   \n",
       "1  624f258b49e77713fc34034560f93fb3hu3jo      0.0       3.0       1.0   \n",
       "2  1c5f4fc669099bfbfac515cd26997bd12ruaj      0.0       4.0       4.0   \n",
       "3  4bee9aba2abda51bf43d639013d6efe12iycd      0.0       1.0       1.0   \n",
       "4  4ab12bc61c82ddd9c2d65e60555808acqgos1      0.0     155.0      23.0   \n",
       "\n",
       "   num_merch_type  num_device_type  num_time  num_ctry  num_ip  num_url  \n",
       "0             1.0             14.0      24.0       6.0    20.0      1.0  \n",
       "1             1.0              2.0       3.0       1.0     3.0      2.0  \n",
       "2             1.0              2.0       4.0       1.0     4.0      2.0  \n",
       "3             1.0              1.0       1.0       1.0     1.0      1.0  \n",
       "4             1.0             53.0     155.0       2.0   123.0     91.0  "
      ]
     },
     "execution_count": 11,
     "metadata": {},
     "output_type": "execute_result"
    }
   ],
   "source": [
    "train_set = train_df.merge(bidder_unique, on='bidder_id', how='left').drop(columns = ['payment_account', 'address'], errors = 'ignore')\n",
    "train_set = train_set.rename(columns = {'bid_id': 'num_bids', 'auction': 'num_auct', 'merchandise': 'num_merch_type', 'device': 'num_device_type', 'time': 'num_time', 'country': 'num_ctry', 'ip': 'num_ip', 'url': 'num_url'})\n",
    "train_set = train_set.fillna(0)\n",
    "\n",
    "test_set = test_df.merge(bidder_unique, on='bidder_id', how='left').drop(columns = ['payment_account', 'address'], errors = 'ignore')\n",
    "test_set = test_set.rename(columns = {'bid_id': 'num_bids', 'auction': 'num_auct', 'merchandise': 'num_merch_type', 'device': 'num_device_type', 'time': 'num_time', 'country': 'num_ctry', 'ip': 'num_ip', 'url': 'num_url'})\n",
    "test_set = test_set.fillna(0)\n",
    "\n",
    "train_set.head()"
   ]
  },
  {
   "cell_type": "markdown",
   "id": "f7ec2744",
   "metadata": {},
   "source": [
    "### Features generated from first-differencing using .diff()"
   ]
  },
  {
   "cell_type": "markdown",
   "id": "462d3b7f",
   "metadata": {},
   "source": [
    "The competition mentioned that the relative order and scales of time are preserved. Hence, it can be useful for comparisons between behavior using time."
   ]
  },
  {
   "cell_type": "code",
   "execution_count": 12,
   "id": "ce4919be",
   "metadata": {},
   "outputs": [
    {
     "data": {
      "text/html": [
       "<div>\n",
       "<style scoped>\n",
       "    .dataframe tbody tr th:only-of-type {\n",
       "        vertical-align: middle;\n",
       "    }\n",
       "\n",
       "    .dataframe tbody tr th {\n",
       "        vertical-align: top;\n",
       "    }\n",
       "\n",
       "    .dataframe thead th {\n",
       "        text-align: right;\n",
       "    }\n",
       "</style>\n",
       "<table border=\"1\" class=\"dataframe\">\n",
       "  <thead>\n",
       "    <tr style=\"text-align: right;\">\n",
       "      <th></th>\n",
       "      <th>bid_id</th>\n",
       "      <th>bidder_id</th>\n",
       "      <th>auction</th>\n",
       "      <th>merchandise</th>\n",
       "      <th>device</th>\n",
       "      <th>time</th>\n",
       "      <th>country</th>\n",
       "      <th>ip</th>\n",
       "      <th>url</th>\n",
       "    </tr>\n",
       "  </thead>\n",
       "  <tbody>\n",
       "    <tr>\n",
       "      <th>7179832</th>\n",
       "      <td>7179832</td>\n",
       "      <td>001068c415025a009fee375a12cff4fcnht8y</td>\n",
       "      <td>4ifac</td>\n",
       "      <td>jewelry</td>\n",
       "      <td>phone561</td>\n",
       "      <td>9706345052631578</td>\n",
       "      <td>bn</td>\n",
       "      <td>139.226.147.115</td>\n",
       "      <td>vasstdc27m7nks3</td>\n",
       "    </tr>\n",
       "    <tr>\n",
       "      <th>1281292</th>\n",
       "      <td>1281292</td>\n",
       "      <td>002d229ffb247009810828f648afc2ef593rb</td>\n",
       "      <td>2tdw2</td>\n",
       "      <td>mobile</td>\n",
       "      <td>phone640</td>\n",
       "      <td>9766744105263157</td>\n",
       "      <td>sg</td>\n",
       "      <td>37.40.254.131</td>\n",
       "      <td>vasstdc27m7nks3</td>\n",
       "    </tr>\n",
       "    <tr>\n",
       "      <th>1281311</th>\n",
       "      <td>1281311</td>\n",
       "      <td>002d229ffb247009810828f648afc2ef593rb</td>\n",
       "      <td>2tdw2</td>\n",
       "      <td>mobile</td>\n",
       "      <td>phone219</td>\n",
       "      <td>9766744210526315</td>\n",
       "      <td>sg</td>\n",
       "      <td>37.40.254.131</td>\n",
       "      <td>vasstdc27m7nks3</td>\n",
       "    </tr>\n",
       "    <tr>\n",
       "      <th>6805028</th>\n",
       "      <td>6805028</td>\n",
       "      <td>0030a2dd87ad2733e0873062e4f83954mkj86</td>\n",
       "      <td>obbny</td>\n",
       "      <td>mobile</td>\n",
       "      <td>phone313</td>\n",
       "      <td>9704553947368421</td>\n",
       "      <td>ir</td>\n",
       "      <td>21.67.17.162</td>\n",
       "      <td>vnw40k8zzokijsv</td>\n",
       "    </tr>\n",
       "    <tr>\n",
       "      <th>3967330</th>\n",
       "      <td>3967330</td>\n",
       "      <td>003180b29c6a5f8f1d84a6b7b6f7be57tjj1o</td>\n",
       "      <td>obbny</td>\n",
       "      <td>mobile</td>\n",
       "      <td>phone420</td>\n",
       "      <td>9640018631578947</td>\n",
       "      <td>id</td>\n",
       "      <td>44.241.8.179</td>\n",
       "      <td>sj4jidex850loas</td>\n",
       "    </tr>\n",
       "    <tr>\n",
       "      <th>6166636</th>\n",
       "      <td>6166636</td>\n",
       "      <td>003180b29c6a5f8f1d84a6b7b6f7be57tjj1o</td>\n",
       "      <td>cqsh6</td>\n",
       "      <td>mobile</td>\n",
       "      <td>phone102</td>\n",
       "      <td>9700605052631578</td>\n",
       "      <td>id</td>\n",
       "      <td>190.88.89.83</td>\n",
       "      <td>sj4jidex850loas</td>\n",
       "    </tr>\n",
       "    <tr>\n",
       "      <th>7140567</th>\n",
       "      <td>7140567</td>\n",
       "      <td>003180b29c6a5f8f1d84a6b7b6f7be57tjj1o</td>\n",
       "      <td>efh5o</td>\n",
       "      <td>mobile</td>\n",
       "      <td>phone257</td>\n",
       "      <td>9705974315789473</td>\n",
       "      <td>id</td>\n",
       "      <td>115.47.140.180</td>\n",
       "      <td>vasstdc27m7nks3</td>\n",
       "    </tr>\n",
       "    <tr>\n",
       "      <th>2597846</th>\n",
       "      <td>2597846</td>\n",
       "      <td>00486a11dff552c4bd7696265724ff81yeo9v</td>\n",
       "      <td>no958</td>\n",
       "      <td>home goods</td>\n",
       "      <td>phone4</td>\n",
       "      <td>9632636526315789</td>\n",
       "      <td>ng</td>\n",
       "      <td>143.118.40.162</td>\n",
       "      <td>vasstdc27m7nks3</td>\n",
       "    </tr>\n",
       "    <tr>\n",
       "      <th>2599005</th>\n",
       "      <td>2599005</td>\n",
       "      <td>00486a11dff552c4bd7696265724ff81yeo9v</td>\n",
       "      <td>6plix</td>\n",
       "      <td>home goods</td>\n",
       "      <td>phone4</td>\n",
       "      <td>9632641157894736</td>\n",
       "      <td>ng</td>\n",
       "      <td>143.118.40.162</td>\n",
       "      <td>vasstdc27m7nks3</td>\n",
       "    </tr>\n",
       "    <tr>\n",
       "      <th>2750709</th>\n",
       "      <td>2750709</td>\n",
       "      <td>00486a11dff552c4bd7696265724ff81yeo9v</td>\n",
       "      <td>gst86</td>\n",
       "      <td>home goods</td>\n",
       "      <td>phone45</td>\n",
       "      <td>9633339684210526</td>\n",
       "      <td>ng</td>\n",
       "      <td>54.212.177.220</td>\n",
       "      <td>0wfuwlacucr1cdl</td>\n",
       "    </tr>\n",
       "  </tbody>\n",
       "</table>\n",
       "</div>"
      ],
      "text/plain": [
       "          bid_id                              bidder_id auction merchandise  \\\n",
       "7179832  7179832  001068c415025a009fee375a12cff4fcnht8y   4ifac     jewelry   \n",
       "1281292  1281292  002d229ffb247009810828f648afc2ef593rb   2tdw2      mobile   \n",
       "1281311  1281311  002d229ffb247009810828f648afc2ef593rb   2tdw2      mobile   \n",
       "6805028  6805028  0030a2dd87ad2733e0873062e4f83954mkj86   obbny      mobile   \n",
       "3967330  3967330  003180b29c6a5f8f1d84a6b7b6f7be57tjj1o   obbny      mobile   \n",
       "6166636  6166636  003180b29c6a5f8f1d84a6b7b6f7be57tjj1o   cqsh6      mobile   \n",
       "7140567  7140567  003180b29c6a5f8f1d84a6b7b6f7be57tjj1o   efh5o      mobile   \n",
       "2597846  2597846  00486a11dff552c4bd7696265724ff81yeo9v   no958  home goods   \n",
       "2599005  2599005  00486a11dff552c4bd7696265724ff81yeo9v   6plix  home goods   \n",
       "2750709  2750709  00486a11dff552c4bd7696265724ff81yeo9v   gst86  home goods   \n",
       "\n",
       "           device              time country               ip              url  \n",
       "7179832  phone561  9706345052631578      bn  139.226.147.115  vasstdc27m7nks3  \n",
       "1281292  phone640  9766744105263157      sg    37.40.254.131  vasstdc27m7nks3  \n",
       "1281311  phone219  9766744210526315      sg    37.40.254.131  vasstdc27m7nks3  \n",
       "6805028  phone313  9704553947368421      ir     21.67.17.162  vnw40k8zzokijsv  \n",
       "3967330  phone420  9640018631578947      id     44.241.8.179  sj4jidex850loas  \n",
       "6166636  phone102  9700605052631578      id     190.88.89.83  sj4jidex850loas  \n",
       "7140567  phone257  9705974315789473      id   115.47.140.180  vasstdc27m7nks3  \n",
       "2597846    phone4  9632636526315789      ng   143.118.40.162  vasstdc27m7nks3  \n",
       "2599005    phone4  9632641157894736      ng   143.118.40.162  vasstdc27m7nks3  \n",
       "2750709   phone45  9633339684210526      ng   54.212.177.220  0wfuwlacucr1cdl  "
      ]
     },
     "execution_count": 12,
     "metadata": {},
     "output_type": "execute_result"
    }
   ],
   "source": [
    "time_df = bids_df.sort_values(['bidder_id', 'time'])\n",
    "time_df.head(10)"
   ]
  },
  {
   "cell_type": "markdown",
   "id": "11d9e400",
   "metadata": {},
   "source": [
    "We can generate features by looking at the time difference between every two bids for each bidder. We cannot take the first difference of each bidder's first bid so there are missing values. As these missing values do not have any intepretations, we drop them."
   ]
  },
  {
   "cell_type": "code",
   "execution_count": 13,
   "id": "43882e80",
   "metadata": {},
   "outputs": [
    {
     "data": {
      "text/html": [
       "<div>\n",
       "<style scoped>\n",
       "    .dataframe tbody tr th:only-of-type {\n",
       "        vertical-align: middle;\n",
       "    }\n",
       "\n",
       "    .dataframe tbody tr th {\n",
       "        vertical-align: top;\n",
       "    }\n",
       "\n",
       "    .dataframe thead th {\n",
       "        text-align: right;\n",
       "    }\n",
       "</style>\n",
       "<table border=\"1\" class=\"dataframe\">\n",
       "  <thead>\n",
       "    <tr style=\"text-align: right;\">\n",
       "      <th></th>\n",
       "      <th>time</th>\n",
       "    </tr>\n",
       "  </thead>\n",
       "  <tbody>\n",
       "    <tr>\n",
       "      <th>7179832</th>\n",
       "      <td>NaN</td>\n",
       "    </tr>\n",
       "    <tr>\n",
       "      <th>1281292</th>\n",
       "      <td>NaN</td>\n",
       "    </tr>\n",
       "    <tr>\n",
       "      <th>1281311</th>\n",
       "      <td>1.052632e+08</td>\n",
       "    </tr>\n",
       "    <tr>\n",
       "      <th>6805028</th>\n",
       "      <td>NaN</td>\n",
       "    </tr>\n",
       "    <tr>\n",
       "      <th>3967330</th>\n",
       "      <td>NaN</td>\n",
       "    </tr>\n",
       "    <tr>\n",
       "      <th>6166636</th>\n",
       "      <td>6.058642e+13</td>\n",
       "    </tr>\n",
       "    <tr>\n",
       "      <th>7140567</th>\n",
       "      <td>5.369263e+12</td>\n",
       "    </tr>\n",
       "    <tr>\n",
       "      <th>2597846</th>\n",
       "      <td>NaN</td>\n",
       "    </tr>\n",
       "    <tr>\n",
       "      <th>2599005</th>\n",
       "      <td>4.631579e+09</td>\n",
       "    </tr>\n",
       "    <tr>\n",
       "      <th>2750709</th>\n",
       "      <td>6.985263e+11</td>\n",
       "    </tr>\n",
       "  </tbody>\n",
       "</table>\n",
       "</div>"
      ],
      "text/plain": [
       "                 time\n",
       "7179832           NaN\n",
       "1281292           NaN\n",
       "1281311  1.052632e+08\n",
       "6805028           NaN\n",
       "3967330           NaN\n",
       "6166636  6.058642e+13\n",
       "7140567  5.369263e+12\n",
       "2597846           NaN\n",
       "2599005  4.631579e+09\n",
       "2750709  6.985263e+11"
      ]
     },
     "execution_count": 13,
     "metadata": {},
     "output_type": "execute_result"
    }
   ],
   "source": [
    "firstdiff = time_df.groupby('bidder_id')[['time']].diff()\n",
    "firstdiff.head(10)"
   ]
  },
  {
   "cell_type": "code",
   "execution_count": 14,
   "id": "581e519c",
   "metadata": {},
   "outputs": [
    {
     "data": {
      "text/html": [
       "<div>\n",
       "<style scoped>\n",
       "    .dataframe tbody tr th:only-of-type {\n",
       "        vertical-align: middle;\n",
       "    }\n",
       "\n",
       "    .dataframe tbody tr th {\n",
       "        vertical-align: top;\n",
       "    }\n",
       "\n",
       "    .dataframe thead th {\n",
       "        text-align: right;\n",
       "    }\n",
       "</style>\n",
       "<table border=\"1\" class=\"dataframe\">\n",
       "  <thead>\n",
       "    <tr style=\"text-align: right;\">\n",
       "      <th></th>\n",
       "      <th>bidder_id</th>\n",
       "      <th>first_diff</th>\n",
       "    </tr>\n",
       "  </thead>\n",
       "  <tbody>\n",
       "    <tr>\n",
       "      <th>1281311</th>\n",
       "      <td>002d229ffb247009810828f648afc2ef593rb</td>\n",
       "      <td>1.052632e+08</td>\n",
       "    </tr>\n",
       "    <tr>\n",
       "      <th>6166636</th>\n",
       "      <td>003180b29c6a5f8f1d84a6b7b6f7be57tjj1o</td>\n",
       "      <td>6.058642e+13</td>\n",
       "    </tr>\n",
       "    <tr>\n",
       "      <th>7140567</th>\n",
       "      <td>003180b29c6a5f8f1d84a6b7b6f7be57tjj1o</td>\n",
       "      <td>5.369263e+12</td>\n",
       "    </tr>\n",
       "    <tr>\n",
       "      <th>2599005</th>\n",
       "      <td>00486a11dff552c4bd7696265724ff81yeo9v</td>\n",
       "      <td>4.631579e+09</td>\n",
       "    </tr>\n",
       "    <tr>\n",
       "      <th>2750709</th>\n",
       "      <td>00486a11dff552c4bd7696265724ff81yeo9v</td>\n",
       "      <td>6.985263e+11</td>\n",
       "    </tr>\n",
       "  </tbody>\n",
       "</table>\n",
       "</div>"
      ],
      "text/plain": [
       "                                     bidder_id    first_diff\n",
       "1281311  002d229ffb247009810828f648afc2ef593rb  1.052632e+08\n",
       "6166636  003180b29c6a5f8f1d84a6b7b6f7be57tjj1o  6.058642e+13\n",
       "7140567  003180b29c6a5f8f1d84a6b7b6f7be57tjj1o  5.369263e+12\n",
       "2599005  00486a11dff552c4bd7696265724ff81yeo9v  4.631579e+09\n",
       "2750709  00486a11dff552c4bd7696265724ff81yeo9v  6.985263e+11"
      ]
     },
     "execution_count": 14,
     "metadata": {},
     "output_type": "execute_result"
    }
   ],
   "source": [
    "time_df['first_diff'] = firstdiff\n",
    "firstdiff_feat = time_df[['bidder_id', 'first_diff']].dropna()\n",
    "firstdiff_feat.head()"
   ]
  },
  {
   "cell_type": "markdown",
   "id": "26176d1d",
   "metadata": {},
   "source": [
    "We can generate some features using common aggregate functions such as mean, median, minimum and maximum."
   ]
  },
  {
   "cell_type": "code",
   "execution_count": 15,
   "id": "7c7ce3d6",
   "metadata": {},
   "outputs": [
    {
     "data": {
      "text/html": [
       "<div>\n",
       "<style scoped>\n",
       "    .dataframe tbody tr th:only-of-type {\n",
       "        vertical-align: middle;\n",
       "    }\n",
       "\n",
       "    .dataframe tbody tr th {\n",
       "        vertical-align: top;\n",
       "    }\n",
       "\n",
       "    .dataframe thead th {\n",
       "        text-align: right;\n",
       "    }\n",
       "</style>\n",
       "<table border=\"1\" class=\"dataframe\">\n",
       "  <thead>\n",
       "    <tr style=\"text-align: right;\">\n",
       "      <th></th>\n",
       "      <th>bidder_id</th>\n",
       "      <th>mean_diff</th>\n",
       "      <th>std_diff</th>\n",
       "      <th>min_diff</th>\n",
       "      <th>median_diff</th>\n",
       "      <th>max_diff</th>\n",
       "      <th>iqr_diff</th>\n",
       "    </tr>\n",
       "  </thead>\n",
       "  <tbody>\n",
       "    <tr>\n",
       "      <th>0</th>\n",
       "      <td>002d229ffb247009810828f648afc2ef593rb</td>\n",
       "      <td>1.052632e+08</td>\n",
       "      <td>0.000000e+00</td>\n",
       "      <td>1.052632e+08</td>\n",
       "      <td>1.052632e+08</td>\n",
       "      <td>1.052632e+08</td>\n",
       "      <td>0.000000e+00</td>\n",
       "    </tr>\n",
       "    <tr>\n",
       "      <th>1</th>\n",
       "      <td>003180b29c6a5f8f1d84a6b7b6f7be57tjj1o</td>\n",
       "      <td>3.297784e+13</td>\n",
       "      <td>3.904443e+13</td>\n",
       "      <td>5.369263e+12</td>\n",
       "      <td>3.297784e+13</td>\n",
       "      <td>6.058642e+13</td>\n",
       "      <td>2.760858e+13</td>\n",
       "    </tr>\n",
       "    <tr>\n",
       "      <th>2</th>\n",
       "      <td>00486a11dff552c4bd7696265724ff81yeo9v</td>\n",
       "      <td>4.018413e+12</td>\n",
       "      <td>1.153730e+13</td>\n",
       "      <td>3.684211e+08</td>\n",
       "      <td>9.177368e+11</td>\n",
       "      <td>5.094174e+13</td>\n",
       "      <td>1.696763e+12</td>\n",
       "    </tr>\n",
       "    <tr>\n",
       "      <th>3</th>\n",
       "      <td>0051aef3fdeacdadba664b9b3b07e04e4coc6</td>\n",
       "      <td>1.635106e+11</td>\n",
       "      <td>5.770740e+11</td>\n",
       "      <td>5.263158e+07</td>\n",
       "      <td>2.736842e+09</td>\n",
       "      <td>3.792368e+12</td>\n",
       "      <td>1.228947e+10</td>\n",
       "    </tr>\n",
       "    <tr>\n",
       "      <th>4</th>\n",
       "      <td>0053b78cde37c4384a20d2da9aa4272aym4pb</td>\n",
       "      <td>7.065316e+09</td>\n",
       "      <td>4.784394e+11</td>\n",
       "      <td>0.000000e+00</td>\n",
       "      <td>3.684211e+08</td>\n",
       "      <td>5.002753e+13</td>\n",
       "      <td>1.000000e+09</td>\n",
       "    </tr>\n",
       "  </tbody>\n",
       "</table>\n",
       "</div>"
      ],
      "text/plain": [
       "                               bidder_id     mean_diff      std_diff  \\\n",
       "0  002d229ffb247009810828f648afc2ef593rb  1.052632e+08  0.000000e+00   \n",
       "1  003180b29c6a5f8f1d84a6b7b6f7be57tjj1o  3.297784e+13  3.904443e+13   \n",
       "2  00486a11dff552c4bd7696265724ff81yeo9v  4.018413e+12  1.153730e+13   \n",
       "3  0051aef3fdeacdadba664b9b3b07e04e4coc6  1.635106e+11  5.770740e+11   \n",
       "4  0053b78cde37c4384a20d2da9aa4272aym4pb  7.065316e+09  4.784394e+11   \n",
       "\n",
       "       min_diff   median_diff      max_diff      iqr_diff  \n",
       "0  1.052632e+08  1.052632e+08  1.052632e+08  0.000000e+00  \n",
       "1  5.369263e+12  3.297784e+13  6.058642e+13  2.760858e+13  \n",
       "2  3.684211e+08  9.177368e+11  5.094174e+13  1.696763e+12  \n",
       "3  5.263158e+07  2.736842e+09  3.792368e+12  1.228947e+10  \n",
       "4  0.000000e+00  3.684211e+08  5.002753e+13  1.000000e+09  "
      ]
     },
     "execution_count": 15,
     "metadata": {},
     "output_type": "execute_result"
    }
   ],
   "source": [
    "bid_intervals = firstdiff_feat.groupby('bidder_id')[['first_diff']].describe().reset_index()\n",
    "bid_intervals = bid_intervals.droplevel(axis=1, level=0)\n",
    "bid_intervals = bid_intervals.rename(columns = {'': 'bidder_id', 'mean': 'mean_diff', 'std': 'std_diff', '50%': 'median_diff', 'min': 'min_diff', 'max': 'max_diff'}).fillna(0)\n",
    "bid_intervals['iqr_diff'] = bid_intervals['75%'] - bid_intervals['25%']\n",
    "bid_intervals = bid_intervals.drop(['25%', '75%', 'count'], axis = 1)\n",
    "bid_intervals.head()"
   ]
  },
  {
   "cell_type": "markdown",
   "id": "04f48a23",
   "metadata": {},
   "source": [
    "When adding the above features to our training and test datasets, we fill missing values for the concurrent bids with 0 simply because the bidders do not have any."
   ]
  },
  {
   "cell_type": "markdown",
   "id": "38a6b383",
   "metadata": {},
   "source": [
    "For the first-difference features, we fill the missing values with the median values because these bidders do not have any bid information."
   ]
  },
  {
   "cell_type": "code",
   "execution_count": 16,
   "id": "ef38ca98",
   "metadata": {},
   "outputs": [],
   "source": [
    "train_set = train_set.merge(bid_intervals, on='bidder_id', how='left')\n",
    "train_set = train_set.fillna(train_set.median())\n",
    "\n",
    "test_set = test_set.merge(bid_intervals, on='bidder_id', how='left')\n",
    "test_set = test_set.fillna(test_set.median())"
   ]
  },
  {
   "cell_type": "markdown",
   "id": "731f2f97",
   "metadata": {},
   "source": [
    "One interesting observation is that some bidders have zero lag time between two bids. Intuitively, bots may be able to achieve this more than an average human, so we can look at the values where the time difference equals 0. We label such bids as concurrent bids."
   ]
  },
  {
   "cell_type": "code",
   "execution_count": 17,
   "id": "3c936659",
   "metadata": {},
   "outputs": [
    {
     "data": {
      "text/html": [
       "<div>\n",
       "<style scoped>\n",
       "    .dataframe tbody tr th:only-of-type {\n",
       "        vertical-align: middle;\n",
       "    }\n",
       "\n",
       "    .dataframe tbody tr th {\n",
       "        vertical-align: top;\n",
       "    }\n",
       "\n",
       "    .dataframe thead th {\n",
       "        text-align: right;\n",
       "    }\n",
       "</style>\n",
       "<table border=\"1\" class=\"dataframe\">\n",
       "  <thead>\n",
       "    <tr style=\"text-align: right;\">\n",
       "      <th></th>\n",
       "      <th>bidder_id</th>\n",
       "      <th>num_concurrent_bids</th>\n",
       "    </tr>\n",
       "  </thead>\n",
       "  <tbody>\n",
       "    <tr>\n",
       "      <th>0</th>\n",
       "      <td>0053b78cde37c4384a20d2da9aa4272aym4pb</td>\n",
       "      <td>728</td>\n",
       "    </tr>\n",
       "    <tr>\n",
       "      <th>1</th>\n",
       "      <td>00a79ebd15f0b24a0a3b5794457cd8ed7dng1</td>\n",
       "      <td>29</td>\n",
       "    </tr>\n",
       "    <tr>\n",
       "      <th>2</th>\n",
       "      <td>00b519ec8ed5e370328451379bb708a306eoj</td>\n",
       "      <td>1</td>\n",
       "    </tr>\n",
       "    <tr>\n",
       "      <th>3</th>\n",
       "      <td>00e0f614d9dd32dd27f6080f472d2934emlos</td>\n",
       "      <td>15</td>\n",
       "    </tr>\n",
       "    <tr>\n",
       "      <th>4</th>\n",
       "      <td>019cf2d366df756c092c91e26f406acdozha7</td>\n",
       "      <td>1</td>\n",
       "    </tr>\n",
       "  </tbody>\n",
       "</table>\n",
       "</div>"
      ],
      "text/plain": [
       "                               bidder_id  num_concurrent_bids\n",
       "0  0053b78cde37c4384a20d2da9aa4272aym4pb                  728\n",
       "1  00a79ebd15f0b24a0a3b5794457cd8ed7dng1                   29\n",
       "2  00b519ec8ed5e370328451379bb708a306eoj                    1\n",
       "3  00e0f614d9dd32dd27f6080f472d2934emlos                   15\n",
       "4  019cf2d366df756c092c91e26f406acdozha7                    1"
      ]
     },
     "execution_count": 17,
     "metadata": {},
     "output_type": "execute_result"
    }
   ],
   "source": [
    "concurrent_bids = firstdiff_feat[firstdiff_feat['first_diff'] == 0].groupby('bidder_id').count().reset_index()\n",
    "concurrent_bids = concurrent_bids.rename(columns = {'first_diff': 'num_concurrent_bids'})\n",
    "concurrent_bids.head()"
   ]
  },
  {
   "cell_type": "code",
   "execution_count": 18,
   "id": "66865c11",
   "metadata": {},
   "outputs": [],
   "source": [
    "train_set = train_set.merge(concurrent_bids, on='bidder_id', how='left').fillna(0)\n",
    "\n",
    "test_set = test_set.merge(concurrent_bids, on='bidder_id', how='left').fillna(0)"
   ]
  },
  {
   "cell_type": "markdown",
   "id": "84f12b7e",
   "metadata": {},
   "source": [
    "### Features generated from time using .first()"
   ]
  },
  {
   "cell_type": "markdown",
   "id": "df8a8563",
   "metadata": {},
   "source": [
    "Time can be used to indicate the behavior of a bidder relative to the others. The easiest comparison is the number of times a bidder is the first or last in an auction. Intuitively, we fill missing values with 0."
   ]
  },
  {
   "cell_type": "code",
   "execution_count": 19,
   "id": "687a2ab7",
   "metadata": {},
   "outputs": [
    {
     "data": {
      "text/html": [
       "<div>\n",
       "<style scoped>\n",
       "    .dataframe tbody tr th:only-of-type {\n",
       "        vertical-align: middle;\n",
       "    }\n",
       "\n",
       "    .dataframe tbody tr th {\n",
       "        vertical-align: top;\n",
       "    }\n",
       "\n",
       "    .dataframe thead th {\n",
       "        text-align: right;\n",
       "    }\n",
       "</style>\n",
       "<table border=\"1\" class=\"dataframe\">\n",
       "  <thead>\n",
       "    <tr style=\"text-align: right;\">\n",
       "      <th></th>\n",
       "      <th>bidder_id</th>\n",
       "      <th>num_first_bid</th>\n",
       "    </tr>\n",
       "  </thead>\n",
       "  <tbody>\n",
       "    <tr>\n",
       "      <th>0</th>\n",
       "      <td>0053b78cde37c4384a20d2da9aa4272aym4pb</td>\n",
       "      <td>4</td>\n",
       "    </tr>\n",
       "    <tr>\n",
       "      <th>1</th>\n",
       "      <td>00a79ebd15f0b24a0a3b5794457cd8ed7dng1</td>\n",
       "      <td>7</td>\n",
       "    </tr>\n",
       "    <tr>\n",
       "      <th>2</th>\n",
       "      <td>00e0f614d9dd32dd27f6080f472d2934emlos</td>\n",
       "      <td>6</td>\n",
       "    </tr>\n",
       "    <tr>\n",
       "      <th>3</th>\n",
       "      <td>019cf2d366df756c092c91e26f406acdozha7</td>\n",
       "      <td>2</td>\n",
       "    </tr>\n",
       "    <tr>\n",
       "      <th>4</th>\n",
       "      <td>01cda526658455000913950f20cf31a2q6nsf</td>\n",
       "      <td>8</td>\n",
       "    </tr>\n",
       "  </tbody>\n",
       "</table>\n",
       "</div>"
      ],
      "text/plain": [
       "                               bidder_id  num_first_bid\n",
       "0  0053b78cde37c4384a20d2da9aa4272aym4pb              4\n",
       "1  00a79ebd15f0b24a0a3b5794457cd8ed7dng1              7\n",
       "2  00e0f614d9dd32dd27f6080f472d2934emlos              6\n",
       "3  019cf2d366df756c092c91e26f406acdozha7              2\n",
       "4  01cda526658455000913950f20cf31a2q6nsf              8"
      ]
     },
     "execution_count": 19,
     "metadata": {},
     "output_type": "execute_result"
    }
   ],
   "source": [
    "first_bid = bids_df.sort_values(['auction', 'time'])\n",
    "first_bid = first_bid.groupby('auction').first().reset_index()\n",
    "first_bid = first_bid.groupby('bidder_id').count()['bid_id'].reset_index()\n",
    "first_bid = first_bid.rename(columns = {'bid_id': 'num_first_bid'})\n",
    "first_bid.head()"
   ]
  },
  {
   "cell_type": "code",
   "execution_count": 20,
   "id": "35fed57b",
   "metadata": {},
   "outputs": [
    {
     "data": {
      "text/html": [
       "<div>\n",
       "<style scoped>\n",
       "    .dataframe tbody tr th:only-of-type {\n",
       "        vertical-align: middle;\n",
       "    }\n",
       "\n",
       "    .dataframe tbody tr th {\n",
       "        vertical-align: top;\n",
       "    }\n",
       "\n",
       "    .dataframe thead th {\n",
       "        text-align: right;\n",
       "    }\n",
       "</style>\n",
       "<table border=\"1\" class=\"dataframe\">\n",
       "  <thead>\n",
       "    <tr style=\"text-align: right;\">\n",
       "      <th></th>\n",
       "      <th>bidder_id</th>\n",
       "      <th>num_last_bid</th>\n",
       "    </tr>\n",
       "  </thead>\n",
       "  <tbody>\n",
       "    <tr>\n",
       "      <th>0</th>\n",
       "      <td>0053b78cde37c4384a20d2da9aa4272aym4pb</td>\n",
       "      <td>6</td>\n",
       "    </tr>\n",
       "    <tr>\n",
       "      <th>1</th>\n",
       "      <td>00b519ec8ed5e370328451379bb708a306eoj</td>\n",
       "      <td>1</td>\n",
       "    </tr>\n",
       "    <tr>\n",
       "      <th>2</th>\n",
       "      <td>00e0f614d9dd32dd27f6080f472d2934emlos</td>\n",
       "      <td>3</td>\n",
       "    </tr>\n",
       "    <tr>\n",
       "      <th>3</th>\n",
       "      <td>01067975436d123f717ee5aba0dd4bbfa0937</td>\n",
       "      <td>1</td>\n",
       "    </tr>\n",
       "    <tr>\n",
       "      <th>4</th>\n",
       "      <td>0113d101ec6aabd354adac645a1ec3e82ln88</td>\n",
       "      <td>1</td>\n",
       "    </tr>\n",
       "  </tbody>\n",
       "</table>\n",
       "</div>"
      ],
      "text/plain": [
       "                               bidder_id  num_last_bid\n",
       "0  0053b78cde37c4384a20d2da9aa4272aym4pb             6\n",
       "1  00b519ec8ed5e370328451379bb708a306eoj             1\n",
       "2  00e0f614d9dd32dd27f6080f472d2934emlos             3\n",
       "3  01067975436d123f717ee5aba0dd4bbfa0937             1\n",
       "4  0113d101ec6aabd354adac645a1ec3e82ln88             1"
      ]
     },
     "execution_count": 20,
     "metadata": {},
     "output_type": "execute_result"
    }
   ],
   "source": [
    "last_bid = bids_df.sort_values(['auction', 'time'], ascending = [True, False])\n",
    "last_bid = last_bid.groupby('auction').first().reset_index()\n",
    "last_bid = last_bid.groupby('bidder_id').count()['bid_id'].reset_index()\n",
    "last_bid = last_bid.rename(columns = {'bid_id': 'num_last_bid'})\n",
    "last_bid.head()"
   ]
  },
  {
   "cell_type": "code",
   "execution_count": 21,
   "id": "d34d3b58",
   "metadata": {},
   "outputs": [],
   "source": [
    "train_set = train_set.merge(first_bid, on='bidder_id', how='left').fillna(0)\n",
    "train_set = train_set.merge(last_bid, on='bidder_id', how='left').fillna(0)\n",
    "\n",
    "test_set = test_set.merge(first_bid, on='bidder_id', how='left').fillna(0)\n",
    "test_set = test_set.merge(last_bid, on='bidder_id', how='left').fillna(0)"
   ]
  },
  {
   "cell_type": "markdown",
   "id": "58377c3d",
   "metadata": {},
   "source": [
    "### Features by other hypotheses"
   ]
  },
  {
   "cell_type": "markdown",
   "id": "e85f7ef6",
   "metadata": {},
   "source": [
    "##### Ratio of bids in first half to second half of auction"
   ]
  },
  {
   "cell_type": "markdown",
   "id": "9ea26036",
   "metadata": {},
   "source": [
    "We define the duration of the auction to be the difference between the first and last bid of that auction. We assume that the bots will bid more towards the end of an auction because bidding early does not really ensure that the bots would not be outbidded."
   ]
  },
  {
   "cell_type": "code",
   "execution_count": 22,
   "id": "1e8db48b",
   "metadata": {},
   "outputs": [
    {
     "data": {
      "text/html": [
       "<div>\n",
       "<style scoped>\n",
       "    .dataframe tbody tr th:only-of-type {\n",
       "        vertical-align: middle;\n",
       "    }\n",
       "\n",
       "    .dataframe tbody tr th {\n",
       "        vertical-align: top;\n",
       "    }\n",
       "\n",
       "    .dataframe thead th {\n",
       "        text-align: right;\n",
       "    }\n",
       "</style>\n",
       "<table border=\"1\" class=\"dataframe\">\n",
       "  <thead>\n",
       "    <tr style=\"text-align: right;\">\n",
       "      <th></th>\n",
       "      <th>auction</th>\n",
       "      <th>max</th>\n",
       "      <th>min</th>\n",
       "      <th>auct_duration</th>\n",
       "    </tr>\n",
       "  </thead>\n",
       "  <tbody>\n",
       "    <tr>\n",
       "      <th>0</th>\n",
       "      <td>00270</td>\n",
       "      <td>9709212894736842</td>\n",
       "      <td>9699049894736842</td>\n",
       "      <td>10163000000000</td>\n",
       "    </tr>\n",
       "    <tr>\n",
       "      <th>1</th>\n",
       "      <td>008vv</td>\n",
       "      <td>9760397157894736</td>\n",
       "      <td>9759369421052631</td>\n",
       "      <td>1027736842105</td>\n",
       "    </tr>\n",
       "    <tr>\n",
       "      <th>2</th>\n",
       "      <td>00cwr</td>\n",
       "      <td>9698636578947368</td>\n",
       "      <td>9695641631578947</td>\n",
       "      <td>2994947368421</td>\n",
       "    </tr>\n",
       "    <tr>\n",
       "      <th>3</th>\n",
       "      <td>00do0</td>\n",
       "      <td>9759865210526315</td>\n",
       "      <td>9759323842105263</td>\n",
       "      <td>541368421052</td>\n",
       "    </tr>\n",
       "    <tr>\n",
       "      <th>4</th>\n",
       "      <td>00hjy</td>\n",
       "      <td>9772723842105263</td>\n",
       "      <td>9759410368421052</td>\n",
       "      <td>13313473684211</td>\n",
       "    </tr>\n",
       "  </tbody>\n",
       "</table>\n",
       "</div>"
      ],
      "text/plain": [
       "  auction               max               min   auct_duration\n",
       "0   00270  9709212894736842  9699049894736842  10163000000000\n",
       "1   008vv  9760397157894736  9759369421052631   1027736842105\n",
       "2   00cwr  9698636578947368  9695641631578947   2994947368421\n",
       "3   00do0  9759865210526315  9759323842105263    541368421052\n",
       "4   00hjy  9772723842105263  9759410368421052  13313473684211"
      ]
     },
     "execution_count": 22,
     "metadata": {},
     "output_type": "execute_result"
    }
   ],
   "source": [
    "auct_duration = bids_df.sort_values(['auction', 'time'])[['bidder_id', 'auction', 'time']]\n",
    "auct_duration = auct_duration[['auction','time']].groupby('auction').agg([max,min]).reset_index().droplevel(axis=1, level=0).rename(columns = {'': 'auction'})\n",
    "auct_duration['auct_duration'] = auct_duration['max'] - auct_duration['min']\n",
    "auct_duration.head()"
   ]
  },
  {
   "cell_type": "code",
   "execution_count": 23,
   "id": "f444edd1",
   "metadata": {},
   "outputs": [
    {
     "data": {
      "text/html": [
       "<div>\n",
       "<style scoped>\n",
       "    .dataframe tbody tr th:only-of-type {\n",
       "        vertical-align: middle;\n",
       "    }\n",
       "\n",
       "    .dataframe tbody tr th {\n",
       "        vertical-align: top;\n",
       "    }\n",
       "\n",
       "    .dataframe thead th {\n",
       "        text-align: right;\n",
       "    }\n",
       "</style>\n",
       "<table border=\"1\" class=\"dataframe\">\n",
       "  <thead>\n",
       "    <tr style=\"text-align: right;\">\n",
       "      <th></th>\n",
       "      <th>bidder_id</th>\n",
       "      <th>auction</th>\n",
       "      <th>time</th>\n",
       "      <th>max</th>\n",
       "      <th>min</th>\n",
       "      <th>auct_duration</th>\n",
       "    </tr>\n",
       "  </thead>\n",
       "  <tbody>\n",
       "    <tr>\n",
       "      <th>0</th>\n",
       "      <td>92af1e40713e077ef87f5352fb56772fjnzm7</td>\n",
       "      <td>00270</td>\n",
       "      <td>9699049894736842</td>\n",
       "      <td>9709212894736842</td>\n",
       "      <td>9699049894736842</td>\n",
       "      <td>10163000000000</td>\n",
       "    </tr>\n",
       "    <tr>\n",
       "      <th>1</th>\n",
       "      <td>a939f51234ad2c44eb9ccc84e754f41foiv7g</td>\n",
       "      <td>00270</td>\n",
       "      <td>9699098210526315</td>\n",
       "      <td>9709212894736842</td>\n",
       "      <td>9699049894736842</td>\n",
       "      <td>10163000000000</td>\n",
       "    </tr>\n",
       "    <tr>\n",
       "      <th>2</th>\n",
       "      <td>92af1e40713e077ef87f5352fb56772fjnzm7</td>\n",
       "      <td>00270</td>\n",
       "      <td>9699195789473684</td>\n",
       "      <td>9709212894736842</td>\n",
       "      <td>9699049894736842</td>\n",
       "      <td>10163000000000</td>\n",
       "    </tr>\n",
       "    <tr>\n",
       "      <th>3</th>\n",
       "      <td>9655ccc7c0c193f1549475f02c54dce45kjw7</td>\n",
       "      <td>00270</td>\n",
       "      <td>9699392473684210</td>\n",
       "      <td>9709212894736842</td>\n",
       "      <td>9699049894736842</td>\n",
       "      <td>10163000000000</td>\n",
       "    </tr>\n",
       "    <tr>\n",
       "      <th>4</th>\n",
       "      <td>9655ccc7c0c193f1549475f02c54dce45kjw7</td>\n",
       "      <td>00270</td>\n",
       "      <td>9699474473684210</td>\n",
       "      <td>9709212894736842</td>\n",
       "      <td>9699049894736842</td>\n",
       "      <td>10163000000000</td>\n",
       "    </tr>\n",
       "  </tbody>\n",
       "</table>\n",
       "</div>"
      ],
      "text/plain": [
       "                               bidder_id auction              time  \\\n",
       "0  92af1e40713e077ef87f5352fb56772fjnzm7   00270  9699049894736842   \n",
       "1  a939f51234ad2c44eb9ccc84e754f41foiv7g   00270  9699098210526315   \n",
       "2  92af1e40713e077ef87f5352fb56772fjnzm7   00270  9699195789473684   \n",
       "3  9655ccc7c0c193f1549475f02c54dce45kjw7   00270  9699392473684210   \n",
       "4  9655ccc7c0c193f1549475f02c54dce45kjw7   00270  9699474473684210   \n",
       "\n",
       "                max               min   auct_duration  \n",
       "0  9709212894736842  9699049894736842  10163000000000  \n",
       "1  9709212894736842  9699049894736842  10163000000000  \n",
       "2  9709212894736842  9699049894736842  10163000000000  \n",
       "3  9709212894736842  9699049894736842  10163000000000  \n",
       "4  9709212894736842  9699049894736842  10163000000000  "
      ]
     },
     "execution_count": 23,
     "metadata": {},
     "output_type": "execute_result"
    }
   ],
   "source": [
    "time_ratio = bids_df.sort_values(['auction', 'time'])[['bidder_id', 'auction', 'time']]\n",
    "time_ratio = time_ratio.merge(auct_duration, on = 'auction', how = 'left')\n",
    "time_ratio.head()"
   ]
  },
  {
   "cell_type": "code",
   "execution_count": 24,
   "id": "50795ec4",
   "metadata": {},
   "outputs": [
    {
     "data": {
      "text/html": [
       "<div>\n",
       "<style scoped>\n",
       "    .dataframe tbody tr th:only-of-type {\n",
       "        vertical-align: middle;\n",
       "    }\n",
       "\n",
       "    .dataframe tbody tr th {\n",
       "        vertical-align: top;\n",
       "    }\n",
       "\n",
       "    .dataframe thead th {\n",
       "        text-align: right;\n",
       "    }\n",
       "</style>\n",
       "<table border=\"1\" class=\"dataframe\">\n",
       "  <thead>\n",
       "    <tr style=\"text-align: right;\">\n",
       "      <th></th>\n",
       "      <th>bidder_id</th>\n",
       "      <th>auction</th>\n",
       "      <th>time</th>\n",
       "      <th>max</th>\n",
       "      <th>min</th>\n",
       "      <th>auct_duration</th>\n",
       "      <th>temp</th>\n",
       "    </tr>\n",
       "  </thead>\n",
       "  <tbody>\n",
       "    <tr>\n",
       "      <th>0</th>\n",
       "      <td>92af1e40713e077ef87f5352fb56772fjnzm7</td>\n",
       "      <td>00270</td>\n",
       "      <td>9699049894736842</td>\n",
       "      <td>9709212894736842</td>\n",
       "      <td>9699049894736842</td>\n",
       "      <td>10163000000000</td>\n",
       "      <td>9.693968e+15</td>\n",
       "    </tr>\n",
       "    <tr>\n",
       "      <th>1</th>\n",
       "      <td>a939f51234ad2c44eb9ccc84e754f41foiv7g</td>\n",
       "      <td>00270</td>\n",
       "      <td>9699098210526315</td>\n",
       "      <td>9709212894736842</td>\n",
       "      <td>9699049894736842</td>\n",
       "      <td>10163000000000</td>\n",
       "      <td>9.694017e+15</td>\n",
       "    </tr>\n",
       "    <tr>\n",
       "      <th>2</th>\n",
       "      <td>92af1e40713e077ef87f5352fb56772fjnzm7</td>\n",
       "      <td>00270</td>\n",
       "      <td>9699195789473684</td>\n",
       "      <td>9709212894736842</td>\n",
       "      <td>9699049894736842</td>\n",
       "      <td>10163000000000</td>\n",
       "      <td>9.694114e+15</td>\n",
       "    </tr>\n",
       "    <tr>\n",
       "      <th>3</th>\n",
       "      <td>9655ccc7c0c193f1549475f02c54dce45kjw7</td>\n",
       "      <td>00270</td>\n",
       "      <td>9699392473684210</td>\n",
       "      <td>9709212894736842</td>\n",
       "      <td>9699049894736842</td>\n",
       "      <td>10163000000000</td>\n",
       "      <td>9.694311e+15</td>\n",
       "    </tr>\n",
       "    <tr>\n",
       "      <th>4</th>\n",
       "      <td>9655ccc7c0c193f1549475f02c54dce45kjw7</td>\n",
       "      <td>00270</td>\n",
       "      <td>9699474473684210</td>\n",
       "      <td>9709212894736842</td>\n",
       "      <td>9699049894736842</td>\n",
       "      <td>10163000000000</td>\n",
       "      <td>9.694393e+15</td>\n",
       "    </tr>\n",
       "  </tbody>\n",
       "</table>\n",
       "</div>"
      ],
      "text/plain": [
       "                               bidder_id auction              time  \\\n",
       "0  92af1e40713e077ef87f5352fb56772fjnzm7   00270  9699049894736842   \n",
       "1  a939f51234ad2c44eb9ccc84e754f41foiv7g   00270  9699098210526315   \n",
       "2  92af1e40713e077ef87f5352fb56772fjnzm7   00270  9699195789473684   \n",
       "3  9655ccc7c0c193f1549475f02c54dce45kjw7   00270  9699392473684210   \n",
       "4  9655ccc7c0c193f1549475f02c54dce45kjw7   00270  9699474473684210   \n",
       "\n",
       "                max               min   auct_duration          temp  \n",
       "0  9709212894736842  9699049894736842  10163000000000  9.693968e+15  \n",
       "1  9709212894736842  9699049894736842  10163000000000  9.694017e+15  \n",
       "2  9709212894736842  9699049894736842  10163000000000  9.694114e+15  \n",
       "3  9709212894736842  9699049894736842  10163000000000  9.694311e+15  \n",
       "4  9709212894736842  9699049894736842  10163000000000  9.694393e+15  "
      ]
     },
     "execution_count": 24,
     "metadata": {},
     "output_type": "execute_result"
    }
   ],
   "source": [
    "time_ratio['temp'] = time_ratio['time'] - time_ratio['auct_duration'] / 2\n",
    "time_ratio.head()"
   ]
  },
  {
   "cell_type": "code",
   "execution_count": 25,
   "id": "80f87e8d",
   "metadata": {},
   "outputs": [
    {
     "data": {
      "text/html": [
       "<div>\n",
       "<style scoped>\n",
       "    .dataframe tbody tr th:only-of-type {\n",
       "        vertical-align: middle;\n",
       "    }\n",
       "\n",
       "    .dataframe tbody tr th {\n",
       "        vertical-align: top;\n",
       "    }\n",
       "\n",
       "    .dataframe thead th {\n",
       "        text-align: right;\n",
       "    }\n",
       "</style>\n",
       "<table border=\"1\" class=\"dataframe\">\n",
       "  <thead>\n",
       "    <tr style=\"text-align: right;\">\n",
       "      <th></th>\n",
       "      <th>bidder_id</th>\n",
       "      <th>auction</th>\n",
       "      <th>time</th>\n",
       "      <th>max</th>\n",
       "      <th>min</th>\n",
       "      <th>auct_duration</th>\n",
       "      <th>temp</th>\n",
       "      <th>firsthalf</th>\n",
       "    </tr>\n",
       "  </thead>\n",
       "  <tbody>\n",
       "    <tr>\n",
       "      <th>0</th>\n",
       "      <td>92af1e40713e077ef87f5352fb56772fjnzm7</td>\n",
       "      <td>00270</td>\n",
       "      <td>9699049894736842</td>\n",
       "      <td>9709212894736842</td>\n",
       "      <td>9699049894736842</td>\n",
       "      <td>10163000000000</td>\n",
       "      <td>9.693968e+15</td>\n",
       "      <td>True</td>\n",
       "    </tr>\n",
       "    <tr>\n",
       "      <th>1</th>\n",
       "      <td>a939f51234ad2c44eb9ccc84e754f41foiv7g</td>\n",
       "      <td>00270</td>\n",
       "      <td>9699098210526315</td>\n",
       "      <td>9709212894736842</td>\n",
       "      <td>9699049894736842</td>\n",
       "      <td>10163000000000</td>\n",
       "      <td>9.694017e+15</td>\n",
       "      <td>True</td>\n",
       "    </tr>\n",
       "    <tr>\n",
       "      <th>2</th>\n",
       "      <td>92af1e40713e077ef87f5352fb56772fjnzm7</td>\n",
       "      <td>00270</td>\n",
       "      <td>9699195789473684</td>\n",
       "      <td>9709212894736842</td>\n",
       "      <td>9699049894736842</td>\n",
       "      <td>10163000000000</td>\n",
       "      <td>9.694114e+15</td>\n",
       "      <td>True</td>\n",
       "    </tr>\n",
       "    <tr>\n",
       "      <th>3</th>\n",
       "      <td>9655ccc7c0c193f1549475f02c54dce45kjw7</td>\n",
       "      <td>00270</td>\n",
       "      <td>9699392473684210</td>\n",
       "      <td>9709212894736842</td>\n",
       "      <td>9699049894736842</td>\n",
       "      <td>10163000000000</td>\n",
       "      <td>9.694311e+15</td>\n",
       "      <td>True</td>\n",
       "    </tr>\n",
       "    <tr>\n",
       "      <th>4</th>\n",
       "      <td>9655ccc7c0c193f1549475f02c54dce45kjw7</td>\n",
       "      <td>00270</td>\n",
       "      <td>9699474473684210</td>\n",
       "      <td>9709212894736842</td>\n",
       "      <td>9699049894736842</td>\n",
       "      <td>10163000000000</td>\n",
       "      <td>9.694393e+15</td>\n",
       "      <td>True</td>\n",
       "    </tr>\n",
       "  </tbody>\n",
       "</table>\n",
       "</div>"
      ],
      "text/plain": [
       "                               bidder_id auction              time  \\\n",
       "0  92af1e40713e077ef87f5352fb56772fjnzm7   00270  9699049894736842   \n",
       "1  a939f51234ad2c44eb9ccc84e754f41foiv7g   00270  9699098210526315   \n",
       "2  92af1e40713e077ef87f5352fb56772fjnzm7   00270  9699195789473684   \n",
       "3  9655ccc7c0c193f1549475f02c54dce45kjw7   00270  9699392473684210   \n",
       "4  9655ccc7c0c193f1549475f02c54dce45kjw7   00270  9699474473684210   \n",
       "\n",
       "                max               min   auct_duration          temp  firsthalf  \n",
       "0  9709212894736842  9699049894736842  10163000000000  9.693968e+15       True  \n",
       "1  9709212894736842  9699049894736842  10163000000000  9.694017e+15       True  \n",
       "2  9709212894736842  9699049894736842  10163000000000  9.694114e+15       True  \n",
       "3  9709212894736842  9699049894736842  10163000000000  9.694311e+15       True  \n",
       "4  9709212894736842  9699049894736842  10163000000000  9.694393e+15       True  "
      ]
     },
     "execution_count": 25,
     "metadata": {},
     "output_type": "execute_result"
    }
   ],
   "source": [
    "time_ratio['firsthalf'] = time_ratio['temp'] < time_ratio['min']\n",
    "time_ratio.head()"
   ]
  },
  {
   "cell_type": "code",
   "execution_count": 26,
   "id": "ca91c2fc",
   "metadata": {},
   "outputs": [
    {
     "data": {
      "text/html": [
       "<div>\n",
       "<style scoped>\n",
       "    .dataframe tbody tr th:only-of-type {\n",
       "        vertical-align: middle;\n",
       "    }\n",
       "\n",
       "    .dataframe tbody tr th {\n",
       "        vertical-align: top;\n",
       "    }\n",
       "\n",
       "    .dataframe thead th {\n",
       "        text-align: right;\n",
       "    }\n",
       "</style>\n",
       "<table border=\"1\" class=\"dataframe\">\n",
       "  <thead>\n",
       "    <tr style=\"text-align: right;\">\n",
       "      <th></th>\n",
       "      <th>bidder_id</th>\n",
       "      <th>num_firsthalf_bids</th>\n",
       "      <th>num_secondhalf_bids</th>\n",
       "      <th>percent_firsthalf_bids</th>\n",
       "      <th>percent_secondhalf_bids</th>\n",
       "    </tr>\n",
       "  </thead>\n",
       "  <tbody>\n",
       "    <tr>\n",
       "      <th>0</th>\n",
       "      <td>001068c415025a009fee375a12cff4fcnht8y</td>\n",
       "      <td>0</td>\n",
       "      <td>1</td>\n",
       "      <td>0.000000</td>\n",
       "      <td>1.000000</td>\n",
       "    </tr>\n",
       "    <tr>\n",
       "      <th>1</th>\n",
       "      <td>002d229ffb247009810828f648afc2ef593rb</td>\n",
       "      <td>2</td>\n",
       "      <td>0</td>\n",
       "      <td>1.000000</td>\n",
       "      <td>0.000000</td>\n",
       "    </tr>\n",
       "    <tr>\n",
       "      <th>2</th>\n",
       "      <td>0030a2dd87ad2733e0873062e4f83954mkj86</td>\n",
       "      <td>0</td>\n",
       "      <td>1</td>\n",
       "      <td>0.000000</td>\n",
       "      <td>1.000000</td>\n",
       "    </tr>\n",
       "    <tr>\n",
       "      <th>3</th>\n",
       "      <td>003180b29c6a5f8f1d84a6b7b6f7be57tjj1o</td>\n",
       "      <td>2</td>\n",
       "      <td>1</td>\n",
       "      <td>0.666667</td>\n",
       "      <td>0.333333</td>\n",
       "    </tr>\n",
       "    <tr>\n",
       "      <th>4</th>\n",
       "      <td>00486a11dff552c4bd7696265724ff81yeo9v</td>\n",
       "      <td>15</td>\n",
       "      <td>5</td>\n",
       "      <td>0.750000</td>\n",
       "      <td>0.250000</td>\n",
       "    </tr>\n",
       "  </tbody>\n",
       "</table>\n",
       "</div>"
      ],
      "text/plain": [
       "                               bidder_id  num_firsthalf_bids  \\\n",
       "0  001068c415025a009fee375a12cff4fcnht8y                   0   \n",
       "1  002d229ffb247009810828f648afc2ef593rb                   2   \n",
       "2  0030a2dd87ad2733e0873062e4f83954mkj86                   0   \n",
       "3  003180b29c6a5f8f1d84a6b7b6f7be57tjj1o                   2   \n",
       "4  00486a11dff552c4bd7696265724ff81yeo9v                  15   \n",
       "\n",
       "   num_secondhalf_bids  percent_firsthalf_bids  percent_secondhalf_bids  \n",
       "0                    1                0.000000                 1.000000  \n",
       "1                    0                1.000000                 0.000000  \n",
       "2                    1                0.000000                 1.000000  \n",
       "3                    1                0.666667                 0.333333  \n",
       "4                    5                0.750000                 0.250000  "
      ]
     },
     "execution_count": 26,
     "metadata": {},
     "output_type": "execute_result"
    }
   ],
   "source": [
    "ratio_firsthalf = time_ratio[['bidder_id', 'firsthalf']].groupby('bidder_id').agg(['count', sum]).reset_index().droplevel(axis=1, level=0).rename(columns = {'': 'bidder_id', 'count': 'num_total_bids', 'sum': 'num_firsthalf_bids'})\n",
    "ratio_firsthalf['num_secondhalf_bids'] = ratio_firsthalf['num_total_bids'] - ratio_firsthalf['num_firsthalf_bids']\n",
    "ratio_firsthalf['percent_firsthalf_bids'] = ratio_firsthalf['num_firsthalf_bids'] / ratio_firsthalf['num_total_bids']\n",
    "ratio_firsthalf['percent_secondhalf_bids'] = ratio_firsthalf['num_secondhalf_bids'] / ratio_firsthalf['num_total_bids']\n",
    "ratio_firsthalf = ratio_firsthalf.drop('num_total_bids', axis = 1)\n",
    "ratio_firsthalf.head()"
   ]
  },
  {
   "cell_type": "code",
   "execution_count": 27,
   "id": "1359f81e",
   "metadata": {},
   "outputs": [],
   "source": [
    "train_set = train_set.merge(ratio_firsthalf, on='bidder_id', how='left').fillna(0)\n",
    "\n",
    "test_set = test_set.merge(ratio_firsthalf, on='bidder_id', how='left').fillna(0)"
   ]
  },
  {
   "cell_type": "markdown",
   "id": "a65b13fd",
   "metadata": {},
   "source": [
    "##### Max number of bids in an auction"
   ]
  },
  {
   "cell_type": "markdown",
   "id": "e8ee766a",
   "metadata": {},
   "source": [
    "Since the bots' aim is to win the auction, by assuming that a bot will not give up an auction, the bot should realistically make more bids for any auction."
   ]
  },
  {
   "cell_type": "code",
   "execution_count": 28,
   "id": "cb657e5b",
   "metadata": {},
   "outputs": [
    {
     "data": {
      "text/html": [
       "<div>\n",
       "<style scoped>\n",
       "    .dataframe tbody tr th:only-of-type {\n",
       "        vertical-align: middle;\n",
       "    }\n",
       "\n",
       "    .dataframe tbody tr th {\n",
       "        vertical-align: top;\n",
       "    }\n",
       "\n",
       "    .dataframe thead th {\n",
       "        text-align: right;\n",
       "    }\n",
       "</style>\n",
       "<table border=\"1\" class=\"dataframe\">\n",
       "  <thead>\n",
       "    <tr style=\"text-align: right;\">\n",
       "      <th></th>\n",
       "      <th>bidder_id</th>\n",
       "      <th>max_bids_in_auct</th>\n",
       "    </tr>\n",
       "  </thead>\n",
       "  <tbody>\n",
       "    <tr>\n",
       "      <th>0</th>\n",
       "      <td>001068c415025a009fee375a12cff4fcnht8y</td>\n",
       "      <td>1</td>\n",
       "    </tr>\n",
       "    <tr>\n",
       "      <th>1</th>\n",
       "      <td>002d229ffb247009810828f648afc2ef593rb</td>\n",
       "      <td>2</td>\n",
       "    </tr>\n",
       "    <tr>\n",
       "      <th>2</th>\n",
       "      <td>0030a2dd87ad2733e0873062e4f83954mkj86</td>\n",
       "      <td>1</td>\n",
       "    </tr>\n",
       "    <tr>\n",
       "      <th>3</th>\n",
       "      <td>003180b29c6a5f8f1d84a6b7b6f7be57tjj1o</td>\n",
       "      <td>1</td>\n",
       "    </tr>\n",
       "    <tr>\n",
       "      <th>4</th>\n",
       "      <td>00486a11dff552c4bd7696265724ff81yeo9v</td>\n",
       "      <td>3</td>\n",
       "    </tr>\n",
       "  </tbody>\n",
       "</table>\n",
       "</div>"
      ],
      "text/plain": [
       "                               bidder_id  max_bids_in_auct\n",
       "0  001068c415025a009fee375a12cff4fcnht8y                 1\n",
       "1  002d229ffb247009810828f648afc2ef593rb                 2\n",
       "2  0030a2dd87ad2733e0873062e4f83954mkj86                 1\n",
       "3  003180b29c6a5f8f1d84a6b7b6f7be57tjj1o                 1\n",
       "4  00486a11dff552c4bd7696265724ff81yeo9v                 3"
      ]
     },
     "execution_count": 28,
     "metadata": {},
     "output_type": "execute_result"
    }
   ],
   "source": [
    "max_bids_in_auct = bids_df.groupby(['bidder_id', 'auction']).count().reset_index()[['bidder_id', 'auction', 'bid_id']].rename(columns = {'bid_id': 'max_bids_in_auct'})\n",
    "max_bids_in_auct = max_bids_in_auct[['bidder_id', 'max_bids_in_auct']].groupby('bidder_id').max().reset_index()\n",
    "max_bids_in_auct.head()"
   ]
  },
  {
   "cell_type": "code",
   "execution_count": 29,
   "id": "485240b3",
   "metadata": {},
   "outputs": [],
   "source": [
    "train_set = train_set.merge(max_bids_in_auct, on='bidder_id', how='left').fillna(0)\n",
    "\n",
    "test_set = test_set.merge(max_bids_in_auct, on='bidder_id', how='left').fillna(0)"
   ]
  },
  {
   "cell_type": "markdown",
   "id": "5fa68123",
   "metadata": {},
   "source": [
    "##### Max number of bids in across devices"
   ]
  },
  {
   "cell_type": "markdown",
   "id": "7becd5ba",
   "metadata": {},
   "source": [
    "We find out the maximum number of bids made using the same device by a bidder and find out whether humans and bots have different behavior when it comes to switching devices."
   ]
  },
  {
   "cell_type": "code",
   "execution_count": 30,
   "id": "f8c80ec4",
   "metadata": {},
   "outputs": [
    {
     "data": {
      "text/html": [
       "<div>\n",
       "<style scoped>\n",
       "    .dataframe tbody tr th:only-of-type {\n",
       "        vertical-align: middle;\n",
       "    }\n",
       "\n",
       "    .dataframe tbody tr th {\n",
       "        vertical-align: top;\n",
       "    }\n",
       "\n",
       "    .dataframe thead th {\n",
       "        text-align: right;\n",
       "    }\n",
       "</style>\n",
       "<table border=\"1\" class=\"dataframe\">\n",
       "  <thead>\n",
       "    <tr style=\"text-align: right;\">\n",
       "      <th></th>\n",
       "      <th>bidder_id</th>\n",
       "      <th>max_bids_per_device</th>\n",
       "      <th>max_bids_per_device_per_auct</th>\n",
       "    </tr>\n",
       "  </thead>\n",
       "  <tbody>\n",
       "    <tr>\n",
       "      <th>0</th>\n",
       "      <td>001068c415025a009fee375a12cff4fcnht8y</td>\n",
       "      <td>1</td>\n",
       "      <td>1.0</td>\n",
       "    </tr>\n",
       "    <tr>\n",
       "      <th>1</th>\n",
       "      <td>002d229ffb247009810828f648afc2ef593rb</td>\n",
       "      <td>1</td>\n",
       "      <td>1.0</td>\n",
       "    </tr>\n",
       "    <tr>\n",
       "      <th>2</th>\n",
       "      <td>0030a2dd87ad2733e0873062e4f83954mkj86</td>\n",
       "      <td>1</td>\n",
       "      <td>1.0</td>\n",
       "    </tr>\n",
       "    <tr>\n",
       "      <th>3</th>\n",
       "      <td>003180b29c6a5f8f1d84a6b7b6f7be57tjj1o</td>\n",
       "      <td>1</td>\n",
       "      <td>1.0</td>\n",
       "    </tr>\n",
       "    <tr>\n",
       "      <th>4</th>\n",
       "      <td>00486a11dff552c4bd7696265724ff81yeo9v</td>\n",
       "      <td>7</td>\n",
       "      <td>1.0</td>\n",
       "    </tr>\n",
       "  </tbody>\n",
       "</table>\n",
       "</div>"
      ],
      "text/plain": [
       "                               bidder_id  max_bids_per_device  \\\n",
       "0  001068c415025a009fee375a12cff4fcnht8y                    1   \n",
       "1  002d229ffb247009810828f648afc2ef593rb                    1   \n",
       "2  0030a2dd87ad2733e0873062e4f83954mkj86                    1   \n",
       "3  003180b29c6a5f8f1d84a6b7b6f7be57tjj1o                    1   \n",
       "4  00486a11dff552c4bd7696265724ff81yeo9v                    7   \n",
       "\n",
       "   max_bids_per_device_per_auct  \n",
       "0                           1.0  \n",
       "1                           1.0  \n",
       "2                           1.0  \n",
       "3                           1.0  \n",
       "4                           1.0  "
      ]
     },
     "execution_count": 30,
     "metadata": {},
     "output_type": "execute_result"
    }
   ],
   "source": [
    "device = bids_df.groupby(['bidder_id', 'device']).nunique()[['bid_id', 'auction']].reset_index().rename(columns = {'bid_id': 'max_bids_per_device', 'auction': 'num_auct_per_device'})\n",
    "device = device.groupby('bidder_id').max().reset_index()\n",
    "device['max_bids_per_device_per_auct'] = device['max_bids_per_device'] / device['num_auct_per_device']\n",
    "device = device[['bidder_id', 'max_bids_per_device', 'max_bids_per_device_per_auct']]\n",
    "device.head()"
   ]
  },
  {
   "cell_type": "code",
   "execution_count": 31,
   "id": "a2b81ef0",
   "metadata": {},
   "outputs": [],
   "source": [
    "train_set = train_set.merge(device, on='bidder_id', how='left').fillna(0)\n",
    "\n",
    "test_set = test_set.merge(device, on='bidder_id', how='left').fillna(0)"
   ]
  },
  {
   "cell_type": "markdown",
   "id": "c9516073",
   "metadata": {},
   "source": [
    "### Feature transformations"
   ]
  },
  {
   "cell_type": "markdown",
   "id": "45f5ad30",
   "metadata": {},
   "source": [
    "We attempt to create some features that makes sense by intuition. For example, bids_per_auct may be a better feature than just num_bids and num_auct separately because we standardize the number of bids made by a bidder with respect to the total number of auctions they participated. The same can be said for the other features.\n",
    "    \n",
    "Again, we fill missing values with 0 because they indicate those bidders with no bid information."
   ]
  },
  {
   "cell_type": "code",
   "execution_count": 32,
   "id": "45afc0b3",
   "metadata": {},
   "outputs": [],
   "source": [
    "train_set['percent_concurrent_bids'] = train_set['num_concurrent_bids'] / train_set['num_bids']\n",
    "train_set['bids_per_auct'] = train_set['num_bids'] / train_set['num_auct']\n",
    "train_set['bids_per_device'] = train_set['num_bids'] / train_set['num_device_type']\n",
    "train_set['bids_per_url'] = train_set['num_bids'] / train_set['num_url']\n",
    "train_set['device_per_auct'] = train_set['num_device_type'] / train_set['num_auct']\n",
    "train_set['ip_per_ctry'] = train_set['num_ip'] / train_set['num_ctry']\n",
    "train_set['percent_max_bids'] = train_set['max_bids_per_device'] / train_set['num_bids']\n",
    "\n",
    "train_set = train_set.fillna(0)\n",
    "\n",
    "test_set['percent_concurrent_bids'] = test_set['num_concurrent_bids'] / test_set['num_bids']\n",
    "test_set['bids_per_auct'] = test_set['num_bids'] / test_set['num_auct']\n",
    "test_set['bids_per_device'] = test_set['num_bids'] / test_set['num_device_type']\n",
    "test_set['bids_per_url'] = test_set['num_bids'] / test_set['num_url']\n",
    "test_set['device_per_auct'] = test_set['num_device_type'] / test_set['num_auct']\n",
    "test_set['ip_per_ctry'] = test_set['num_ip'] / test_set['num_ctry']\n",
    "test_set['percent_max_bids'] = test_set['max_bids_per_device'] / test_set['num_bids']\n",
    "\n",
    "test_set = test_set.fillna(0)"
   ]
  },
  {
   "cell_type": "markdown",
   "id": "85dd83cd",
   "metadata": {},
   "source": [
    "### Outliers"
   ]
  },
  {
   "cell_type": "markdown",
   "id": "eeaad391",
   "metadata": {},
   "source": [
    "There are outliers, with 5 bots having only a single bid. We remove them as they may affect model performance badly."
   ]
  },
  {
   "cell_type": "code",
   "execution_count": 33,
   "id": "73f812cc",
   "metadata": {},
   "outputs": [
    {
     "data": {
      "image/png": "[encoded data removed]",
      "text/plain": [
       "<Figure size 432x288 with 1 Axes>"
      ]
     },
     "metadata": {
      "needs_background": "light"
     },
     "output_type": "display_data"
    }
   ],
   "source": [
    "fig, ax = plt.subplots()\n",
    "num_bids_per_bot = sns.barplot(data = train_set[train_set['outcome'] == 1].sort_values('num_bids').head(10),\n",
    "                               x = 'bidder_id',\n",
    "                               y = 'num_bids',\n",
    "                               ax = ax\n",
    "                              )\n",
    "ax.bar_label(ax.containers[0])\n",
    "plt.xticks(rotation = 90)\n",
    "\n",
    "plt.show()"
   ]
  },
  {
   "cell_type": "code",
   "execution_count": 34,
   "id": "da1d3421",
   "metadata": {},
   "outputs": [
    {
     "data": {
      "text/html": [
       "<div>\n",
       "<style scoped>\n",
       "    .dataframe tbody tr th:only-of-type {\n",
       "        vertical-align: middle;\n",
       "    }\n",
       "\n",
       "    .dataframe tbody tr th {\n",
       "        vertical-align: top;\n",
       "    }\n",
       "\n",
       "    .dataframe thead th {\n",
       "        text-align: right;\n",
       "    }\n",
       "</style>\n",
       "<table border=\"1\" class=\"dataframe\">\n",
       "  <thead>\n",
       "    <tr style=\"text-align: right;\">\n",
       "      <th></th>\n",
       "      <th>bidder_id</th>\n",
       "      <th>outcome</th>\n",
       "      <th>num_bids</th>\n",
       "      <th>num_auct</th>\n",
       "      <th>num_merch_type</th>\n",
       "      <th>num_device_type</th>\n",
       "      <th>num_time</th>\n",
       "      <th>num_ctry</th>\n",
       "      <th>num_ip</th>\n",
       "      <th>num_url</th>\n",
       "      <th>...</th>\n",
       "      <th>max_bids_in_auct</th>\n",
       "      <th>max_bids_per_device</th>\n",
       "      <th>max_bids_per_device_per_auct</th>\n",
       "      <th>percent_concurrent_bids</th>\n",
       "      <th>bids_per_auct</th>\n",
       "      <th>bids_per_device</th>\n",
       "      <th>bids_per_url</th>\n",
       "      <th>device_per_auct</th>\n",
       "      <th>ip_per_ctry</th>\n",
       "      <th>percent_max_bids</th>\n",
       "    </tr>\n",
       "  </thead>\n",
       "  <tbody>\n",
       "    <tr>\n",
       "      <th>615</th>\n",
       "      <td>f35082c6d72f1f1be3dd23f949db1f577t6wd</td>\n",
       "      <td>1.0</td>\n",
       "      <td>1.0</td>\n",
       "      <td>1.0</td>\n",
       "      <td>1.0</td>\n",
       "      <td>1.0</td>\n",
       "      <td>1.0</td>\n",
       "      <td>1.0</td>\n",
       "      <td>1.0</td>\n",
       "      <td>1.0</td>\n",
       "      <td>...</td>\n",
       "      <td>1.0</td>\n",
       "      <td>1.0</td>\n",
       "      <td>1.0</td>\n",
       "      <td>0.0</td>\n",
       "      <td>1.0</td>\n",
       "      <td>1.000000</td>\n",
       "      <td>1.0</td>\n",
       "      <td>1.0</td>\n",
       "      <td>1.0</td>\n",
       "      <td>1.0</td>\n",
       "    </tr>\n",
       "    <tr>\n",
       "      <th>775</th>\n",
       "      <td>bd0071b98d9479130e5c053a244fe6f1muj8h</td>\n",
       "      <td>1.0</td>\n",
       "      <td>1.0</td>\n",
       "      <td>1.0</td>\n",
       "      <td>1.0</td>\n",
       "      <td>1.0</td>\n",
       "      <td>1.0</td>\n",
       "      <td>1.0</td>\n",
       "      <td>1.0</td>\n",
       "      <td>1.0</td>\n",
       "      <td>...</td>\n",
       "      <td>1.0</td>\n",
       "      <td>1.0</td>\n",
       "      <td>1.0</td>\n",
       "      <td>0.0</td>\n",
       "      <td>1.0</td>\n",
       "      <td>1.000000</td>\n",
       "      <td>1.0</td>\n",
       "      <td>1.0</td>\n",
       "      <td>1.0</td>\n",
       "      <td>1.0</td>\n",
       "    </tr>\n",
       "    <tr>\n",
       "      <th>392</th>\n",
       "      <td>7fab82fa5eaea6a44eb743bc4bf356b3tarle</td>\n",
       "      <td>1.0</td>\n",
       "      <td>1.0</td>\n",
       "      <td>1.0</td>\n",
       "      <td>1.0</td>\n",
       "      <td>1.0</td>\n",
       "      <td>1.0</td>\n",
       "      <td>1.0</td>\n",
       "      <td>1.0</td>\n",
       "      <td>1.0</td>\n",
       "      <td>...</td>\n",
       "      <td>1.0</td>\n",
       "      <td>1.0</td>\n",
       "      <td>1.0</td>\n",
       "      <td>0.0</td>\n",
       "      <td>1.0</td>\n",
       "      <td>1.000000</td>\n",
       "      <td>1.0</td>\n",
       "      <td>1.0</td>\n",
       "      <td>1.0</td>\n",
       "      <td>1.0</td>\n",
       "    </tr>\n",
       "    <tr>\n",
       "      <th>1669</th>\n",
       "      <td>74a35c4376559c911fdb5e9cfb78c5e4btqew</td>\n",
       "      <td>1.0</td>\n",
       "      <td>1.0</td>\n",
       "      <td>1.0</td>\n",
       "      <td>1.0</td>\n",
       "      <td>1.0</td>\n",
       "      <td>1.0</td>\n",
       "      <td>1.0</td>\n",
       "      <td>1.0</td>\n",
       "      <td>1.0</td>\n",
       "      <td>...</td>\n",
       "      <td>1.0</td>\n",
       "      <td>1.0</td>\n",
       "      <td>1.0</td>\n",
       "      <td>0.0</td>\n",
       "      <td>1.0</td>\n",
       "      <td>1.000000</td>\n",
       "      <td>1.0</td>\n",
       "      <td>1.0</td>\n",
       "      <td>1.0</td>\n",
       "      <td>1.0</td>\n",
       "    </tr>\n",
       "    <tr>\n",
       "      <th>1102</th>\n",
       "      <td>91c749114e26abdb9a4536169f9b4580huern</td>\n",
       "      <td>1.0</td>\n",
       "      <td>1.0</td>\n",
       "      <td>1.0</td>\n",
       "      <td>1.0</td>\n",
       "      <td>1.0</td>\n",
       "      <td>1.0</td>\n",
       "      <td>1.0</td>\n",
       "      <td>1.0</td>\n",
       "      <td>1.0</td>\n",
       "      <td>...</td>\n",
       "      <td>1.0</td>\n",
       "      <td>1.0</td>\n",
       "      <td>1.0</td>\n",
       "      <td>0.0</td>\n",
       "      <td>1.0</td>\n",
       "      <td>1.000000</td>\n",
       "      <td>1.0</td>\n",
       "      <td>1.0</td>\n",
       "      <td>1.0</td>\n",
       "      <td>1.0</td>\n",
       "    </tr>\n",
       "    <tr>\n",
       "      <th>148</th>\n",
       "      <td>efc61ad6db17265a4bac85f77b154ef414tpp</td>\n",
       "      <td>1.0</td>\n",
       "      <td>4.0</td>\n",
       "      <td>2.0</td>\n",
       "      <td>1.0</td>\n",
       "      <td>3.0</td>\n",
       "      <td>4.0</td>\n",
       "      <td>2.0</td>\n",
       "      <td>3.0</td>\n",
       "      <td>1.0</td>\n",
       "      <td>...</td>\n",
       "      <td>3.0</td>\n",
       "      <td>2.0</td>\n",
       "      <td>2.0</td>\n",
       "      <td>0.0</td>\n",
       "      <td>2.0</td>\n",
       "      <td>1.333333</td>\n",
       "      <td>4.0</td>\n",
       "      <td>1.5</td>\n",
       "      <td>1.5</td>\n",
       "      <td>0.5</td>\n",
       "    </tr>\n",
       "  </tbody>\n",
       "</table>\n",
       "<p>6 rows × 33 columns</p>\n",
       "</div>"
      ],
      "text/plain": [
       "                                  bidder_id  outcome  num_bids  num_auct  \\\n",
       "615   f35082c6d72f1f1be3dd23f949db1f577t6wd      1.0       1.0       1.0   \n",
       "775   bd0071b98d9479130e5c053a244fe6f1muj8h      1.0       1.0       1.0   \n",
       "392   7fab82fa5eaea6a44eb743bc4bf356b3tarle      1.0       1.0       1.0   \n",
       "1669  74a35c4376559c911fdb5e9cfb78c5e4btqew      1.0       1.0       1.0   \n",
       "1102  91c749114e26abdb9a4536169f9b4580huern      1.0       1.0       1.0   \n",
       "148   efc61ad6db17265a4bac85f77b154ef414tpp      1.0       4.0       2.0   \n",
       "\n",
       "      num_merch_type  num_device_type  num_time  num_ctry  num_ip  num_url  \\\n",
       "615              1.0              1.0       1.0       1.0     1.0      1.0   \n",
       "775              1.0              1.0       1.0       1.0     1.0      1.0   \n",
       "392              1.0              1.0       1.0       1.0     1.0      1.0   \n",
       "1669             1.0              1.0       1.0       1.0     1.0      1.0   \n",
       "1102             1.0              1.0       1.0       1.0     1.0      1.0   \n",
       "148              1.0              3.0       4.0       2.0     3.0      1.0   \n",
       "\n",
       "      ...  max_bids_in_auct  max_bids_per_device  \\\n",
       "615   ...               1.0                  1.0   \n",
       "775   ...               1.0                  1.0   \n",
       "392   ...               1.0                  1.0   \n",
       "1669  ...               1.0                  1.0   \n",
       "1102  ...               1.0                  1.0   \n",
       "148   ...               3.0                  2.0   \n",
       "\n",
       "      max_bids_per_device_per_auct  percent_concurrent_bids  bids_per_auct  \\\n",
       "615                            1.0                      0.0            1.0   \n",
       "775                            1.0                      0.0            1.0   \n",
       "392                            1.0                      0.0            1.0   \n",
       "1669                           1.0                      0.0            1.0   \n",
       "1102                           1.0                      0.0            1.0   \n",
       "148                            2.0                      0.0            2.0   \n",
       "\n",
       "      bids_per_device  bids_per_url  device_per_auct  ip_per_ctry  \\\n",
       "615          1.000000           1.0              1.0          1.0   \n",
       "775          1.000000           1.0              1.0          1.0   \n",
       "392          1.000000           1.0              1.0          1.0   \n",
       "1669         1.000000           1.0              1.0          1.0   \n",
       "1102         1.000000           1.0              1.0          1.0   \n",
       "148          1.333333           4.0              1.5          1.5   \n",
       "\n",
       "      percent_max_bids  \n",
       "615                1.0  \n",
       "775                1.0  \n",
       "392                1.0  \n",
       "1669               1.0  \n",
       "1102               1.0  \n",
       "148                0.5  \n",
       "\n",
       "[6 rows x 33 columns]"
      ]
     },
     "execution_count": 34,
     "metadata": {},
     "output_type": "execute_result"
    }
   ],
   "source": [
    "train_set[train_set['outcome'] == 1].sort_values('num_bids').head(6)"
   ]
  },
  {
   "cell_type": "code",
   "execution_count": 35,
   "id": "b9e3339f",
   "metadata": {},
   "outputs": [],
   "source": [
    "train_set = train_set.drop([615, 775, 392, 1669, 1102], axis = 0)"
   ]
  },
  {
   "cell_type": "markdown",
   "id": "5dc462ba",
   "metadata": {},
   "source": [
    "### Checking the significance of features"
   ]
  },
  {
   "cell_type": "markdown",
   "id": "bc4cff45",
   "metadata": {},
   "source": [
    "We compute the mean of each feature for a human and a bot. One interesting observation is that both humans and bots only bidded for one type of merchandise. The value for humans is skewed due to humans with no bid data.\n",
    "\n",
    "We can investigate the feature, merchandise, further to see if encoding can be performed."
   ]
  },
  {
   "cell_type": "code",
   "execution_count": 36,
   "id": "dbaba151",
   "metadata": {},
   "outputs": [
    {
     "data": {
      "text/html": [
       "<div>\n",
       "<style scoped>\n",
       "    .dataframe tbody tr th:only-of-type {\n",
       "        vertical-align: middle;\n",
       "    }\n",
       "\n",
       "    .dataframe tbody tr th {\n",
       "        vertical-align: top;\n",
       "    }\n",
       "\n",
       "    .dataframe thead th {\n",
       "        text-align: right;\n",
       "    }\n",
       "</style>\n",
       "<table border=\"1\" class=\"dataframe\">\n",
       "  <thead>\n",
       "    <tr style=\"text-align: right;\">\n",
       "      <th>outcome</th>\n",
       "      <th>0.0</th>\n",
       "      <th>1.0</th>\n",
       "    </tr>\n",
       "  </thead>\n",
       "  <tbody>\n",
       "    <tr>\n",
       "      <th>num_bids</th>\n",
       "      <td>1.392046e+03</td>\n",
       "      <td>4.208276e+03</td>\n",
       "    </tr>\n",
       "    <tr>\n",
       "      <th>num_auct</th>\n",
       "      <td>5.718901e+01</td>\n",
       "      <td>1.523878e+02</td>\n",
       "    </tr>\n",
       "    <tr>\n",
       "      <th>num_merch_type</th>\n",
       "      <td>9.853403e-01</td>\n",
       "      <td>1.000000e+00</td>\n",
       "    </tr>\n",
       "    <tr>\n",
       "      <th>num_device_type</th>\n",
       "      <td>7.282461e+01</td>\n",
       "      <td>1.719082e+02</td>\n",
       "    </tr>\n",
       "    <tr>\n",
       "      <th>num_time</th>\n",
       "      <td>1.157949e+03</td>\n",
       "      <td>3.857806e+03</td>\n",
       "    </tr>\n",
       "    <tr>\n",
       "      <th>num_ctry</th>\n",
       "      <td>1.240000e+01</td>\n",
       "      <td>2.762245e+01</td>\n",
       "    </tr>\n",
       "    <tr>\n",
       "      <th>num_ip</th>\n",
       "      <td>5.724309e+02</td>\n",
       "      <td>2.509571e+03</td>\n",
       "    </tr>\n",
       "    <tr>\n",
       "      <th>num_url</th>\n",
       "      <td>3.300979e+02</td>\n",
       "      <td>5.723163e+02</td>\n",
       "    </tr>\n",
       "    <tr>\n",
       "      <th>mean_diff</th>\n",
       "      <td>2.915060e+12</td>\n",
       "      <td>5.332332e+10</td>\n",
       "    </tr>\n",
       "    <tr>\n",
       "      <th>std_diff</th>\n",
       "      <td>4.195499e+12</td>\n",
       "      <td>5.086255e+11</td>\n",
       "    </tr>\n",
       "    <tr>\n",
       "      <th>min_diff</th>\n",
       "      <td>9.789134e+11</td>\n",
       "      <td>8.002148e+07</td>\n",
       "    </tr>\n",
       "    <tr>\n",
       "      <th>median_diff</th>\n",
       "      <td>1.662292e+12</td>\n",
       "      <td>1.228330e+10</td>\n",
       "    </tr>\n",
       "    <tr>\n",
       "      <th>max_diff</th>\n",
       "      <td>2.158563e+13</td>\n",
       "      <td>1.602854e+13</td>\n",
       "    </tr>\n",
       "    <tr>\n",
       "      <th>iqr_diff</th>\n",
       "      <td>1.515340e+12</td>\n",
       "      <td>3.669294e+10</td>\n",
       "    </tr>\n",
       "    <tr>\n",
       "      <th>num_concurrent_bids</th>\n",
       "      <td>2.340974e+02</td>\n",
       "      <td>3.504694e+02</td>\n",
       "    </tr>\n",
       "    <tr>\n",
       "      <th>num_first_bid</th>\n",
       "      <td>2.603141e+00</td>\n",
       "      <td>8.295918e+00</td>\n",
       "    </tr>\n",
       "    <tr>\n",
       "      <th>num_last_bid</th>\n",
       "      <td>2.627225e+00</td>\n",
       "      <td>8.234694e+00</td>\n",
       "    </tr>\n",
       "    <tr>\n",
       "      <th>num_firsthalf_bids</th>\n",
       "      <td>7.587005e+02</td>\n",
       "      <td>1.947439e+03</td>\n",
       "    </tr>\n",
       "    <tr>\n",
       "      <th>num_secondhalf_bids</th>\n",
       "      <td>6.333455e+02</td>\n",
       "      <td>2.260837e+03</td>\n",
       "    </tr>\n",
       "    <tr>\n",
       "      <th>percent_firsthalf_bids</th>\n",
       "      <td>5.180525e-01</td>\n",
       "      <td>4.962497e-01</td>\n",
       "    </tr>\n",
       "    <tr>\n",
       "      <th>percent_secondhalf_bids</th>\n",
       "      <td>4.667643e-01</td>\n",
       "      <td>5.037503e-01</td>\n",
       "    </tr>\n",
       "    <tr>\n",
       "      <th>max_bids_in_auct</th>\n",
       "      <td>1.982120e+02</td>\n",
       "      <td>1.024173e+03</td>\n",
       "    </tr>\n",
       "    <tr>\n",
       "      <th>max_bids_per_device</th>\n",
       "      <td>1.977450e+02</td>\n",
       "      <td>6.244694e+02</td>\n",
       "    </tr>\n",
       "    <tr>\n",
       "      <th>max_bids_per_device_per_auct</th>\n",
       "      <td>3.669694e+00</td>\n",
       "      <td>1.741291e+01</td>\n",
       "    </tr>\n",
       "    <tr>\n",
       "      <th>percent_concurrent_bids</th>\n",
       "      <td>4.855995e-03</td>\n",
       "      <td>3.977513e-02</td>\n",
       "    </tr>\n",
       "    <tr>\n",
       "      <th>bids_per_auct</th>\n",
       "      <td>6.343722e+00</td>\n",
       "      <td>2.428501e+01</td>\n",
       "    </tr>\n",
       "    <tr>\n",
       "      <th>bids_per_device</th>\n",
       "      <td>1.216968e+01</td>\n",
       "      <td>1.054413e+02</td>\n",
       "    </tr>\n",
       "    <tr>\n",
       "      <th>bids_per_url</th>\n",
       "      <td>1.538989e+01</td>\n",
       "      <td>1.226588e+02</td>\n",
       "    </tr>\n",
       "    <tr>\n",
       "      <th>device_per_auct</th>\n",
       "      <td>1.367550e+00</td>\n",
       "      <td>1.416368e+00</td>\n",
       "    </tr>\n",
       "    <tr>\n",
       "      <th>ip_per_ctry</th>\n",
       "      <td>1.649501e+01</td>\n",
       "      <td>8.161240e+01</td>\n",
       "    </tr>\n",
       "    <tr>\n",
       "      <th>percent_max_bids</th>\n",
       "      <td>4.250265e-01</td>\n",
       "      <td>3.512170e-01</td>\n",
       "    </tr>\n",
       "  </tbody>\n",
       "</table>\n",
       "</div>"
      ],
      "text/plain": [
       "outcome                                0.0           1.0\n",
       "num_bids                      1.392046e+03  4.208276e+03\n",
       "num_auct                      5.718901e+01  1.523878e+02\n",
       "num_merch_type                9.853403e-01  1.000000e+00\n",
       "num_device_type               7.282461e+01  1.719082e+02\n",
       "num_time                      1.157949e+03  3.857806e+03\n",
       "num_ctry                      1.240000e+01  2.762245e+01\n",
       "num_ip                        5.724309e+02  2.509571e+03\n",
       "num_url                       3.300979e+02  5.723163e+02\n",
       "mean_diff                     2.915060e+12  5.332332e+10\n",
       "std_diff                      4.195499e+12  5.086255e+11\n",
       "min_diff                      9.789134e+11  8.002148e+07\n",
       "median_diff                   1.662292e+12  1.228330e+10\n",
       "max_diff                      2.158563e+13  1.602854e+13\n",
       "iqr_diff                      1.515340e+12  3.669294e+10\n",
       "num_concurrent_bids           2.340974e+02  3.504694e+02\n",
       "num_first_bid                 2.603141e+00  8.295918e+00\n",
       "num_last_bid                  2.627225e+00  8.234694e+00\n",
       "num_firsthalf_bids            7.587005e+02  1.947439e+03\n",
       "num_secondhalf_bids           6.333455e+02  2.260837e+03\n",
       "percent_firsthalf_bids        5.180525e-01  4.962497e-01\n",
       "percent_secondhalf_bids       4.667643e-01  5.037503e-01\n",
       "max_bids_in_auct              1.982120e+02  1.024173e+03\n",
       "max_bids_per_device           1.977450e+02  6.244694e+02\n",
       "max_bids_per_device_per_auct  3.669694e+00  1.741291e+01\n",
       "percent_concurrent_bids       4.855995e-03  3.977513e-02\n",
       "bids_per_auct                 6.343722e+00  2.428501e+01\n",
       "bids_per_device               1.216968e+01  1.054413e+02\n",
       "bids_per_url                  1.538989e+01  1.226588e+02\n",
       "device_per_auct               1.367550e+00  1.416368e+00\n",
       "ip_per_ctry                   1.649501e+01  8.161240e+01\n",
       "percent_max_bids              4.250265e-01  3.512170e-01"
      ]
     },
     "execution_count": 36,
     "metadata": {},
     "output_type": "execute_result"
    }
   ],
   "source": [
    "train_set.groupby('outcome').mean().T"
   ]
  },
  {
   "cell_type": "markdown",
   "id": "aa566e5a",
   "metadata": {},
   "source": [
    "The top 3 merchandises bidded by both humans and robots are the same, namely sporting goods, mobile and jewelry. Some merchandise like home goods and autoparts are not bidded by robots. However, they make up a small proportion of the human bids. We choose not to include categorical variables in our model."
   ]
  },
  {
   "cell_type": "code",
   "execution_count": 37,
   "id": "ae74e848",
   "metadata": {},
   "outputs": [
    {
     "data": {
      "text/html": [
       "<div>\n",
       "<style scoped>\n",
       "    .dataframe tbody tr th:only-of-type {\n",
       "        vertical-align: middle;\n",
       "    }\n",
       "\n",
       "    .dataframe tbody tr th {\n",
       "        vertical-align: top;\n",
       "    }\n",
       "\n",
       "    .dataframe thead th {\n",
       "        text-align: right;\n",
       "    }\n",
       "</style>\n",
       "<table border=\"1\" class=\"dataframe\">\n",
       "  <thead>\n",
       "    <tr style=\"text-align: right;\">\n",
       "      <th></th>\n",
       "      <th></th>\n",
       "      <th>bid_id</th>\n",
       "    </tr>\n",
       "    <tr>\n",
       "      <th>outcome</th>\n",
       "      <th>merchandise</th>\n",
       "      <th></th>\n",
       "    </tr>\n",
       "  </thead>\n",
       "  <tbody>\n",
       "    <tr>\n",
       "      <th rowspan=\"7\" valign=\"top\">1.0</th>\n",
       "      <th>sporting goods</th>\n",
       "      <td>230326</td>\n",
       "    </tr>\n",
       "    <tr>\n",
       "      <th>mobile</th>\n",
       "      <td>105138</td>\n",
       "    </tr>\n",
       "    <tr>\n",
       "      <th>jewelry</th>\n",
       "      <td>37101</td>\n",
       "    </tr>\n",
       "    <tr>\n",
       "      <th>home goods</th>\n",
       "      <td>18708</td>\n",
       "    </tr>\n",
       "    <tr>\n",
       "      <th>computers</th>\n",
       "      <td>11667</td>\n",
       "    </tr>\n",
       "    <tr>\n",
       "      <th>office equipment</th>\n",
       "      <td>7967</td>\n",
       "    </tr>\n",
       "    <tr>\n",
       "      <th>books and music</th>\n",
       "      <td>1509</td>\n",
       "    </tr>\n",
       "    <tr>\n",
       "      <th rowspan=\"10\" valign=\"top\">0.0</th>\n",
       "      <th>sporting goods</th>\n",
       "      <td>939398</td>\n",
       "    </tr>\n",
       "    <tr>\n",
       "      <th>jewelry</th>\n",
       "      <td>555634</td>\n",
       "    </tr>\n",
       "    <tr>\n",
       "      <th>mobile</th>\n",
       "      <td>492350</td>\n",
       "    </tr>\n",
       "    <tr>\n",
       "      <th>home goods</th>\n",
       "      <td>389249</td>\n",
       "    </tr>\n",
       "    <tr>\n",
       "      <th>office equipment</th>\n",
       "      <td>160671</td>\n",
       "    </tr>\n",
       "    <tr>\n",
       "      <th>furniture</th>\n",
       "      <td>87807</td>\n",
       "    </tr>\n",
       "    <tr>\n",
       "      <th>books and music</th>\n",
       "      <td>13733</td>\n",
       "    </tr>\n",
       "    <tr>\n",
       "      <th>auto parts</th>\n",
       "      <td>9757</td>\n",
       "    </tr>\n",
       "    <tr>\n",
       "      <th>computers</th>\n",
       "      <td>9733</td>\n",
       "    </tr>\n",
       "    <tr>\n",
       "      <th>clothing</th>\n",
       "      <td>476</td>\n",
       "    </tr>\n",
       "  </tbody>\n",
       "</table>\n",
       "</div>"
      ],
      "text/plain": [
       "                          bid_id\n",
       "outcome merchandise             \n",
       "1.0     sporting goods    230326\n",
       "        mobile            105138\n",
       "        jewelry            37101\n",
       "        home goods         18708\n",
       "        computers          11667\n",
       "        office equipment    7967\n",
       "        books and music     1509\n",
       "0.0     sporting goods    939398\n",
       "        jewelry           555634\n",
       "        mobile            492350\n",
       "        home goods        389249\n",
       "        office equipment  160671\n",
       "        furniture          87807\n",
       "        books and music    13733\n",
       "        auto parts          9757\n",
       "        computers           9733\n",
       "        clothing             476"
      ]
     },
     "execution_count": 37,
     "metadata": {},
     "output_type": "execute_result"
    }
   ],
   "source": [
    "temp_df = bids_df.merge(train_df, on = 'bidder_id', how = 'left').dropna()\n",
    "temp_df.groupby(['outcome', 'merchandise']).count()[['bid_id']].sort_values(['outcome', 'bid_id'], ascending = False)"
   ]
  },
  {
   "cell_type": "code",
   "execution_count": 38,
   "id": "3ec6189a",
   "metadata": {},
   "outputs": [],
   "source": [
    "train_set = train_set.drop('num_merch_type', axis = 1)\n",
    "\n",
    "test_set = test_set.drop('num_merch_type', axis = 1)"
   ]
  },
  {
   "cell_type": "code",
   "execution_count": 39,
   "id": "1c2d5fee",
   "metadata": {},
   "outputs": [
    {
     "data": {
      "text/plain": [
       "Index(['num_bids', 'num_auct', 'num_device_type', 'num_time', 'num_ctry',\n",
       "       'num_ip', 'num_url', 'mean_diff', 'std_diff', 'min_diff', 'median_diff',\n",
       "       'max_diff', 'iqr_diff', 'num_concurrent_bids', 'num_first_bid',\n",
       "       'num_last_bid', 'num_firsthalf_bids', 'num_secondhalf_bids',\n",
       "       'percent_firsthalf_bids', 'percent_secondhalf_bids', 'max_bids_in_auct',\n",
       "       'max_bids_per_device', 'max_bids_per_device_per_auct',\n",
       "       'percent_concurrent_bids', 'bids_per_auct', 'bids_per_device',\n",
       "       'bids_per_url', 'device_per_auct', 'ip_per_ctry', 'percent_max_bids'],\n",
       "      dtype='object')"
      ]
     },
     "execution_count": 39,
     "metadata": {},
     "output_type": "execute_result"
    }
   ],
   "source": [
    "all_features = train_set.columns.drop(['bidder_id', 'outcome'])\n",
    "all_features"
   ]
  },
  {
   "cell_type": "markdown",
   "id": "343cef28",
   "metadata": {},
   "source": [
    "Another way to check the significance of the features is to use a density plot. From the plots below, the features num_url, num_concurrent_bids, num_firsthalf_bids, max_bids_per_device have similar distributions for both human and bot. Hence, we choose to exclude them from our model as they may not help to differentiate between a human and a bot well."
   ]
  },
  {
   "cell_type": "code",
   "execution_count": 40,
   "id": "90afd574",
   "metadata": {
    "scrolled": false
   },
   "outputs": [
    {
     "data": {
      "image/png": "[encoded data removed]",
      "text/plain": [
       "<Figure size 1296x4320 with 30 Axes>"
      ]
     },
     "metadata": {
      "needs_background": "light"
     },
     "output_type": "display_data"
    }
   ],
   "source": [
    "nrows = 15\n",
    "ncols = 2\n",
    "fig, axes = plt.subplots(nrows = nrows, ncols = ncols, figsize = (18, 60))\n",
    "for i, column in enumerate(all_features):\n",
    "    humans = sns.kdeplot(data = train_set[train_set['outcome'] == 0],\n",
    "                x = column,\n",
    "                ax = axes[i // ncols, i % ncols],\n",
    "                color = 'blue',\n",
    "                fill = True,\n",
    "                alpha = 0.1,\n",
    "                linewidth = 2,\n",
    "                label = 'Human').set_xlim(left = 0)\n",
    "    bots = sns.kdeplot(data = train_set[train_set['outcome'] == 1],\n",
    "                x = column,\n",
    "                ax = axes[i // ncols, i % ncols],\n",
    "                color = 'red',\n",
    "                fill = True,\n",
    "                alpha = 0.1,\n",
    "                linewidth = 2,\n",
    "                label = 'Bot').set_xlim(left = 0)\n",
    "    axes[i // ncols,i % ncols].legend()\n",
    "    \n",
    "plt.show()"
   ]
  },
  {
   "cell_type": "markdown",
   "id": "4f8a21e6",
   "metadata": {},
   "source": [
    "# Model Validation"
   ]
  },
  {
   "cell_type": "code",
   "execution_count": 41,
   "id": "29687961",
   "metadata": {},
   "outputs": [],
   "source": [
    "import numpy as np\n",
    "from sklearn.metrics import roc_auc_score\n",
    "from sklearn.ensemble import RandomForestClassifier\n",
    "from sklearn.model_selection import GridSearchCV, RepeatedStratifiedKFold\n",
    "from time import time\n",
    "from imblearn.over_sampling import RandomOverSampler\n",
    "from imblearn.pipeline import make_pipeline"
   ]
  },
  {
   "cell_type": "markdown",
   "id": "8659d32f",
   "metadata": {},
   "source": [
    "### Imbalanced data"
   ]
  },
  {
   "cell_type": "code",
   "execution_count": 42,
   "id": "e0406fe8",
   "metadata": {},
   "outputs": [
    {
     "data": {
      "text/plain": [
       "0.0    1910\n",
       "1.0      98\n",
       "Name: outcome, dtype: int64"
      ]
     },
     "execution_count": 42,
     "metadata": {},
     "output_type": "execute_result"
    }
   ],
   "source": [
    "train_set['outcome'].value_counts()"
   ]
  },
  {
   "cell_type": "markdown",
   "id": "d71b7805",
   "metadata": {},
   "source": [
    "Due to imbalanced data, we perform over-sampling using RandomOverSampler.\n",
    "\n",
    "Afterwards, we choose to do ensemble averaging of multiple Random Forest models to reduce the variance of our predictions. We do that by setting different random_state for each model. We then perform hyperparameter tuning for each model separately using GridSearchCV."
   ]
  },
  {
   "cell_type": "markdown",
   "id": "667118ed",
   "metadata": {},
   "source": [
    "### Initialize training/test data and models"
   ]
  },
  {
   "cell_type": "code",
   "execution_count": 43,
   "id": "109e43b1",
   "metadata": {},
   "outputs": [
    {
     "name": "stdout",
     "output_type": "stream",
     "text": [
      "Index(['num_bids', 'num_auct', 'num_device_type', 'num_time', 'num_ctry',\n",
      "       'num_ip', 'mean_diff', 'std_diff', 'min_diff', 'median_diff',\n",
      "       'max_diff', 'iqr_diff', 'num_first_bid', 'num_last_bid',\n",
      "       'num_secondhalf_bids', 'percent_firsthalf_bids',\n",
      "       'percent_secondhalf_bids', 'max_bids_in_auct',\n",
      "       'max_bids_per_device_per_auct', 'percent_concurrent_bids',\n",
      "       'bids_per_auct', 'bids_per_device', 'bids_per_url', 'device_per_auct',\n",
      "       'ip_per_ctry', 'percent_max_bids'],\n",
      "      dtype='object')\n"
     ]
    }
   ],
   "source": [
    "feature_col = train_set.columns.drop(['bidder_id', 'outcome',\n",
    "                                     'num_url',  'num_concurrent_bids',  'num_firsthalf_bids', 'max_bids_per_device'\n",
    "                                     ])\n",
    "print(feature_col)\n",
    "\n",
    "X = train_set[feature_col]\n",
    "y = train_set['outcome'].astype(int)\n",
    "\n",
    "X_kaggle = test_set[feature_col]"
   ]
  },
  {
   "cell_type": "markdown",
   "id": "0f8913d2",
   "metadata": {},
   "source": [
    "We first initialize the base models and find out the AUC as reference."
   ]
  },
  {
   "cell_type": "code",
   "execution_count": 44,
   "id": "bc230a31",
   "metadata": {},
   "outputs": [],
   "source": [
    "rf1 = RandomForestClassifier(random_state = 0)\n",
    "rf2 = RandomForestClassifier(random_state = 123)\n",
    "rf3 = RandomForestClassifier(random_state = 456)\n",
    "rf4 = RandomForestClassifier(random_state = 789)\n",
    "rf5 = RandomForestClassifier(random_state = 999)\n",
    "\n",
    "ros = RandomOverSampler(sampling_strategy = 0.1, random_state = 456)\n",
    "\n",
    "pp1 = make_pipeline(ros, rf1)\n",
    "pp2 = make_pipeline(ros, rf2)\n",
    "pp3 = make_pipeline(ros, rf3)\n",
    "pp4 = make_pipeline(ros, rf4)\n",
    "pp5 = make_pipeline(ros, rf5)\n",
    "\n",
    "base_models = [pp1, pp2, pp3, pp4, pp5]"
   ]
  },
  {
   "cell_type": "code",
   "execution_count": 45,
   "id": "1f10a4e1",
   "metadata": {},
   "outputs": [],
   "source": [
    "def cv(models, X, y):\n",
    "    start = time()\n",
    "\n",
    "    rskfold = RepeatedStratifiedKFold(n_splits = 10, n_repeats = 3, random_state = 456) \n",
    "    k_fold_AUC = []\n",
    "\n",
    "    for train_index, test_index in rskfold.split(X, y):\n",
    "        X_train, X_test = X.iloc[train_index], X.iloc[test_index]\n",
    "        y_train, y_test = y.iloc[train_index], y.iloc[test_index]\n",
    "\n",
    "        y_proba = []\n",
    "        for model in models:\n",
    "            model.fit(X_train, y_train)\n",
    "            sub_y_proba = model.predict_proba(X_test)[:, 1]\n",
    "            y_proba.append(sub_y_proba)\n",
    "        y_proba = np.mean(y_proba, axis = 0)\n",
    "\n",
    "        AUC = roc_auc_score(y_test, y_proba)\n",
    "        k_fold_AUC.append(AUC)\n",
    "    \n",
    "    mean_AUC = np.mean(k_fold_AUC)\n",
    "    \n",
    "    end = time()\n",
    "\n",
    "    print(f\"Time elapsed: {(end - start):.4f} seconds\")\n",
    "    print(f\"AUC:{mean_AUC:.4f}\")\n",
    "    \n",
    "    return k_fold_AUC"
   ]
  },
  {
   "cell_type": "markdown",
   "id": "ed160868",
   "metadata": {},
   "source": [
    "### One individual model before hyperparameter tuning"
   ]
  },
  {
   "cell_type": "code",
   "execution_count": 46,
   "id": "2fc79f1b",
   "metadata": {},
   "outputs": [
    {
     "name": "stdout",
     "output_type": "stream",
     "text": [
      "Time elapsed: 9.8051 seconds\n",
      "AUC:0.9344\n"
     ]
    }
   ],
   "source": [
    "base_individual_AUCs = cv([base_models[2]], X, y) # model with random_state = 456 used as reference"
   ]
  },
  {
   "cell_type": "markdown",
   "id": "d9ae3745",
   "metadata": {},
   "source": [
    "### Ensemble averaging before hyperparameter tuning"
   ]
  },
  {
   "cell_type": "code",
   "execution_count": 47,
   "id": "140199ec",
   "metadata": {},
   "outputs": [
    {
     "name": "stdout",
     "output_type": "stream",
     "text": [
      "Time elapsed: 51.2507 seconds\n",
      "AUC:0.9441\n"
     ]
    }
   ],
   "source": [
    "base_average_AUCs = cv(base_models, X, y)"
   ]
  },
  {
   "cell_type": "markdown",
   "id": "9bd4283d",
   "metadata": {},
   "source": [
    "### Hyperparameter tuning with GridSearchCV"
   ]
  },
  {
   "cell_type": "code",
   "execution_count": 48,
   "id": "772a7551",
   "metadata": {},
   "outputs": [],
   "source": [
    "grid = {'randomforestclassifier__n_estimators': [100, 200, 300],\n",
    "        'randomforestclassifier__max_depth': [None, 5, 8, 10],\n",
    "        'randomforestclassifier__min_samples_split': [2, 5, 10],\n",
    "        'randomforestclassifier__min_samples_leaf': [1, 2, 4],\n",
    "       }"
   ]
  },
  {
   "cell_type": "code",
   "execution_count": 49,
   "id": "29e9b06c",
   "metadata": {},
   "outputs": [
    {
     "name": "stdout",
     "output_type": "stream",
     "text": [
      "Fitting 3 folds for each of 108 candidates, totalling 324 fits\n",
      "Fitting 3 folds for each of 108 candidates, totalling 324 fits\n",
      "Fitting 3 folds for each of 108 candidates, totalling 324 fits\n",
      "Fitting 3 folds for each of 108 candidates, totalling 324 fits\n",
      "Fitting 3 folds for each of 108 candidates, totalling 324 fits\n",
      "Time Elapsed: 247.0091 seconds\n"
     ]
    }
   ],
   "source": [
    "start = time()\n",
    "\n",
    "best_models = []\n",
    "\n",
    "for model in base_models:\n",
    "\n",
    "    search = GridSearchCV(estimator = model,\n",
    "                          param_grid = grid,\n",
    "                          scoring = 'roc_auc', \n",
    "                          cv = 3, # default is StratifiedKFold as estimator is classifier\n",
    "                          verbose = 2,\n",
    "                          n_jobs = -1)\n",
    "    search.fit(X,y)\n",
    "    best_models.append(search.best_estimator_)\n",
    "\n",
    "end = time()\n",
    "\n",
    "print(f\"Time Elapsed: {(end - start):.4f} seconds\")"
   ]
  },
  {
   "cell_type": "code",
   "execution_count": 50,
   "id": "646f5888",
   "metadata": {},
   "outputs": [
    {
     "name": "stdout",
     "output_type": "stream",
     "text": [
      "[Pipeline(steps=[('randomoversampler',\n",
      "                 RandomOverSampler(random_state=456, sampling_strategy=0.1)),\n",
      "                ('randomforestclassifier',\n",
      "                 RandomForestClassifier(min_samples_leaf=2, n_estimators=200,\n",
      "                                        random_state=0))]), Pipeline(steps=[('randomoversampler',\n",
      "                 RandomOverSampler(random_state=456, sampling_strategy=0.1)),\n",
      "                ('randomforestclassifier',\n",
      "                 RandomForestClassifier(max_depth=8, n_estimators=200,\n",
      "                                        random_state=123))]), Pipeline(steps=[('randomoversampler',\n",
      "                 RandomOverSampler(random_state=456, sampling_strategy=0.1)),\n",
      "                ('randomforestclassifier',\n",
      "                 RandomForestClassifier(max_depth=8, min_samples_leaf=2,\n",
      "                                        n_estimators=200, random_state=456))]), Pipeline(steps=[('randomoversampler',\n",
      "                 RandomOverSampler(random_state=456, sampling_strategy=0.1)),\n",
      "                ('randomforestclassifier',\n",
      "                 RandomForestClassifier(max_depth=5, random_state=789))]), Pipeline(steps=[('randomoversampler',\n",
      "                 RandomOverSampler(random_state=456, sampling_strategy=0.1)),\n",
      "                ('randomforestclassifier',\n",
      "                 RandomForestClassifier(min_samples_leaf=4, n_estimators=200,\n",
      "                                        random_state=999))])]\n"
     ]
    }
   ],
   "source": [
    "print(best_models)"
   ]
  },
  {
   "cell_type": "markdown",
   "id": "54420bb3",
   "metadata": {},
   "source": [
    "### One individual model after hyperparameter tuning"
   ]
  },
  {
   "cell_type": "code",
   "execution_count": 51,
   "id": "8113b5ca",
   "metadata": {},
   "outputs": [
    {
     "name": "stdout",
     "output_type": "stream",
     "text": [
      "Time elapsed: 19.7023 seconds\n",
      "AUC:0.9481\n"
     ]
    }
   ],
   "source": [
    "individual_AUCs = cv([best_models[2]], X, y) # again, model with random_state = 456 used as reference"
   ]
  },
  {
   "cell_type": "markdown",
   "id": "c4167abf",
   "metadata": {},
   "source": [
    "### Ensemble averaging after hyperparameter tuning"
   ]
  },
  {
   "cell_type": "code",
   "execution_count": 52,
   "id": "015e130f",
   "metadata": {
    "scrolled": true
   },
   "outputs": [
    {
     "name": "stdout",
     "output_type": "stream",
     "text": [
      "Time elapsed: 83.3329 seconds\n",
      "AUC:0.9488\n"
     ]
    }
   ],
   "source": [
    "average_AUCs =cv(best_models, X, y)"
   ]
  },
  {
   "cell_type": "markdown",
   "id": "b639fc32",
   "metadata": {},
   "source": [
    "### Summary"
   ]
  },
  {
   "cell_type": "markdown",
   "id": "27e7df66",
   "metadata": {},
   "source": [
    "We plot the distribution of the ROC AUC scores to compare the differences from ensemble averaging and hyperparameter tuning."
   ]
  },
  {
   "cell_type": "code",
   "execution_count": 53,
   "id": "2c75306b",
   "metadata": {},
   "outputs": [
    {
     "data": {
      "image/png": "[encoded data removed]",
      "text/plain": [
       "<Figure size 1296x432 with 1 Axes>"
      ]
     },
     "metadata": {
      "needs_background": "light"
     },
     "output_type": "display_data"
    }
   ],
   "source": [
    "model_AUCs_list = [('Base individual RF', base_individual_AUCs), ('Base average RFs', base_average_AUCs),\n",
    "                   ('Tuned individual RF', individual_AUCs), ('Tuned average RFs', average_AUCs)]\n",
    "\n",
    "fig, ax = plt.subplots(figsize = (18, 6))\n",
    "\n",
    "for i in range(len(model_AUCs_list)):\n",
    "    color = next(ax._get_lines.prop_cycler)['color']\n",
    "    \n",
    "    AUC_distribution = sns.kdeplot(x = model_AUCs_list[i][1],\n",
    "                                   ax = ax,\n",
    "                                   label = model_AUCs_list[i][0],\n",
    "                                   color = color\n",
    "                                  )\n",
    "    \n",
    "    x_coord = ax.lines[-1].get_xdata()\n",
    "    y_coord = ax.lines[-1].get_ydata()\n",
    "    index_of_max_y = np.argmax(y_coord)\n",
    "    ax.axvline(x_coord[index_of_max_y], linestyle = '--', linewidth = 1, color = color)\n",
    "\n",
    "ax.legend(loc = 'upper left', fontsize = 'x-large')\n",
    "plt.title('ROC AUC score distribution across 4 models', fontsize = 'xx-large')\n",
    "plt.xlabel('ROC AUC score', fontsize = 'x-large')\n",
    "plt.ylabel('Density', fontsize = 'x-large')\n",
    "plt.xlim(right = 1)\n",
    "\n",
    "plt.show()"
   ]
  },
  {
   "cell_type": "markdown",
   "id": "420c82b2",
   "metadata": {},
   "source": [
    "It is evident that hyperparameter tuning reduced the variance of ROC AUC scores as indicated by the spread of the green and red curves.\n",
    "\n",
    "Also, the ROC AUC score for tuned ensemble average of random forests (red vertical line) is more likely to be higher compared to the 3 other models, as seen by the vertical line indicators of their respective peaks."
   ]
  },
  {
   "cell_type": "markdown",
   "id": "fb2ecfe3",
   "metadata": {},
   "source": [
    "# Final Model"
   ]
  },
  {
   "cell_type": "code",
   "execution_count": 54,
   "id": "422cc0e6",
   "metadata": {},
   "outputs": [],
   "source": [
    "final_models = best_models"
   ]
  },
  {
   "cell_type": "code",
   "execution_count": 55,
   "id": "3dff5256",
   "metadata": {},
   "outputs": [
    {
     "data": {
      "text/plain": [
       "array([8.93832834e-05, 2.80789786e-02, 2.93559268e-02, ...,\n",
       "       1.48633177e-01, 8.14483623e-05, 2.83981250e-02])"
      ]
     },
     "execution_count": 55,
     "metadata": {},
     "output_type": "execute_result"
    }
   ],
   "source": [
    "proba = []\n",
    "\n",
    "for model in final_models:\n",
    "    model.fit(X, y)\n",
    "\n",
    "    proba_rforest = model.predict_proba(X_kaggle)[:,1]\n",
    "    proba.append(proba_rforest)\n",
    "\n",
    "result = np.mean(proba, axis = 0)\n",
    "result"
   ]
  },
  {
   "cell_type": "code",
   "execution_count": 56,
   "id": "24f8b634",
   "metadata": {},
   "outputs": [],
   "source": [
    "output_dataframe = pd.DataFrame({\n",
    "    'bidder_id': test_set['bidder_id'],\n",
    "    'prediction': result\n",
    "})\n",
    "output_dataframe.to_csv('my_predictions.csv', index=False) "
   ]
  },
  {
   "cell_type": "markdown",
   "id": "24738d5a",
   "metadata": {},
   "source": [
    "---"
   ]
  }
 ],
 "metadata": {
  "kernelspec": {
   "display_name": "Python 3",
   "language": "python",
   "name": "python3"
  },
  "language_info": {
   "codemirror_mode": {
    "name": "ipython",
    "version": 3
   },
   "file_extension": ".py",
   "mimetype": "text/x-python",
   "name": "python",
   "nbconvert_exporter": "python",
   "pygments_lexer": "ipython3",
   "version": "3.8.8"
  }
 },
 "nbformat": 4,
 "nbformat_minor": 5
}
